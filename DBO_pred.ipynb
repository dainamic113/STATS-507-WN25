{
  "nbformat": 4,
  "nbformat_minor": 0,
  "metadata": {
    "colab": {
      "name": "DBO_pred.ipynb",
      "provenance": []
    },
    "kernelspec": {
      "name": "python3",
      "display_name": "Python 3"
    }
  },
  "cells": [
    {
      "cell_type": "code",
      "metadata": {
        "id": "cNHtoBwAnsoV",
        "colab_type": "code",
        "colab": {
          "base_uri": "https://localhost:8080/",
          "height": 88
        },
        "outputId": "82ed8286-f4b8-4194-b6f2-81a6c43db164"
      },
      "source": [
        "# Description: In conjunction of analyzing DBO"
      ],
      "execution_count": 1,
      "outputs": [
        {
          "output_type": "stream",
          "text": [
            "/usr/local/lib/python3.6/dist-packages/pandas_datareader/compat/__init__.py:7: FutureWarning: pandas.util.testing is deprecated. Use the functions in the public API at pandas.testing instead.\n",
            "  from pandas.util.testing import assert_frame_equal\n",
            "Using TensorFlow backend.\n"
          ],
          "name": "stderr"
        }
      ]
    },
    {
      "cell_type": "code",
      "metadata": {
        "id": "0D0G4Zmko38a",
        "colab_type": "code",
        "colab": {}
      },
      "source": [
        "# Import libraries needed\n",
        "import math\n",
        "import pandas_datareader as web\n",
        "import pandas as pd\n",
        "import tensorflow as tf\n",
        "from sklearn.preprocessing import MinMaxScaler\n",
        "from keras.models import Sequential\n",
        "from keras.layers import Dense, LSTM\n",
        "import numpy as np\n",
        "from statsmodels import regression\n",
        "import statsmodels.api as sm\n",
        "import matplotlib.pyplot as plt\n",
        "plt.style.use('fivethirtyeight')"
      ],
      "execution_count": 123,
      "outputs": []
    },
    {
      "cell_type": "code",
      "metadata": {
        "id": "Yk1qcJRAoXjn",
        "colab_type": "code",
        "colab": {
          "base_uri": "https://localhost:8080/",
          "height": 450
        },
        "outputId": "9b68f7c8-b141-45d5-fb94-138e71e9ba8b"
      },
      "source": [
        "# Pull stock data\n",
        "df = web.DataReader('DBO', data_source='yahoo', start='2019-01-01',end='2020-07-22')\n",
        "# Show the data\n",
        "df"
      ],
      "execution_count": 101,
      "outputs": [
        {
          "output_type": "execute_result",
          "data": {
            "text/html": [
              "<div>\n",
              "<style scoped>\n",
              "    .dataframe tbody tr th:only-of-type {\n",
              "        vertical-align: middle;\n",
              "    }\n",
              "\n",
              "    .dataframe tbody tr th {\n",
              "        vertical-align: top;\n",
              "    }\n",
              "\n",
              "    .dataframe thead th {\n",
              "        text-align: right;\n",
              "    }\n",
              "</style>\n",
              "<table border=\"1\" class=\"dataframe\">\n",
              "  <thead>\n",
              "    <tr style=\"text-align: right;\">\n",
              "      <th></th>\n",
              "      <th>High</th>\n",
              "      <th>Low</th>\n",
              "      <th>Open</th>\n",
              "      <th>Close</th>\n",
              "      <th>Volume</th>\n",
              "      <th>Adj Close</th>\n",
              "    </tr>\n",
              "    <tr>\n",
              "      <th>Date</th>\n",
              "      <th></th>\n",
              "      <th></th>\n",
              "      <th></th>\n",
              "      <th></th>\n",
              "      <th></th>\n",
              "      <th></th>\n",
              "    </tr>\n",
              "  </thead>\n",
              "  <tbody>\n",
              "    <tr>\n",
              "      <th>2019-01-02</th>\n",
              "      <td>8.82</td>\n",
              "      <td>8.20</td>\n",
              "      <td>8.25</td>\n",
              "      <td>8.63</td>\n",
              "      <td>868200.0</td>\n",
              "      <td>8.489923</td>\n",
              "    </tr>\n",
              "    <tr>\n",
              "      <th>2019-01-03</th>\n",
              "      <td>8.75</td>\n",
              "      <td>8.45</td>\n",
              "      <td>8.74</td>\n",
              "      <td>8.70</td>\n",
              "      <td>717700.0</td>\n",
              "      <td>8.558787</td>\n",
              "    </tr>\n",
              "    <tr>\n",
              "      <th>2019-01-04</th>\n",
              "      <td>9.09</td>\n",
              "      <td>8.80</td>\n",
              "      <td>8.91</td>\n",
              "      <td>8.91</td>\n",
              "      <td>722100.0</td>\n",
              "      <td>8.765378</td>\n",
              "    </tr>\n",
              "    <tr>\n",
              "      <th>2019-01-07</th>\n",
              "      <td>9.19</td>\n",
              "      <td>8.95</td>\n",
              "      <td>8.99</td>\n",
              "      <td>9.00</td>\n",
              "      <td>377000.0</td>\n",
              "      <td>8.853918</td>\n",
              "    </tr>\n",
              "    <tr>\n",
              "      <th>2019-01-08</th>\n",
              "      <td>9.22</td>\n",
              "      <td>9.06</td>\n",
              "      <td>9.13</td>\n",
              "      <td>9.19</td>\n",
              "      <td>311200.0</td>\n",
              "      <td>9.040833</td>\n",
              "    </tr>\n",
              "    <tr>\n",
              "      <th>...</th>\n",
              "      <td>...</td>\n",
              "      <td>...</td>\n",
              "      <td>...</td>\n",
              "      <td>...</td>\n",
              "      <td>...</td>\n",
              "      <td>...</td>\n",
              "    </tr>\n",
              "    <tr>\n",
              "      <th>2020-07-16</th>\n",
              "      <td>7.34</td>\n",
              "      <td>7.26</td>\n",
              "      <td>7.28</td>\n",
              "      <td>7.27</td>\n",
              "      <td>766200.0</td>\n",
              "      <td>7.270000</td>\n",
              "    </tr>\n",
              "    <tr>\n",
              "      <th>2020-07-17</th>\n",
              "      <td>7.30</td>\n",
              "      <td>7.19</td>\n",
              "      <td>7.28</td>\n",
              "      <td>7.28</td>\n",
              "      <td>828800.0</td>\n",
              "      <td>7.280000</td>\n",
              "    </tr>\n",
              "    <tr>\n",
              "      <th>2020-07-20</th>\n",
              "      <td>7.31</td>\n",
              "      <td>7.17</td>\n",
              "      <td>7.23</td>\n",
              "      <td>7.27</td>\n",
              "      <td>687800.0</td>\n",
              "      <td>7.270000</td>\n",
              "    </tr>\n",
              "    <tr>\n",
              "      <th>2020-07-21</th>\n",
              "      <td>7.53</td>\n",
              "      <td>7.38</td>\n",
              "      <td>7.46</td>\n",
              "      <td>7.41</td>\n",
              "      <td>1506200.0</td>\n",
              "      <td>7.410000</td>\n",
              "    </tr>\n",
              "    <tr>\n",
              "      <th>2020-07-22</th>\n",
              "      <td>7.45</td>\n",
              "      <td>7.33</td>\n",
              "      <td>7.34</td>\n",
              "      <td>7.43</td>\n",
              "      <td>550500.0</td>\n",
              "      <td>7.430000</td>\n",
              "    </tr>\n",
              "  </tbody>\n",
              "</table>\n",
              "<p>392 rows × 6 columns</p>\n",
              "</div>"
            ],
            "text/plain": [
              "            High   Low  Open  Close     Volume  Adj Close\n",
              "Date                                                     \n",
              "2019-01-02  8.82  8.20  8.25   8.63   868200.0   8.489923\n",
              "2019-01-03  8.75  8.45  8.74   8.70   717700.0   8.558787\n",
              "2019-01-04  9.09  8.80  8.91   8.91   722100.0   8.765378\n",
              "2019-01-07  9.19  8.95  8.99   9.00   377000.0   8.853918\n",
              "2019-01-08  9.22  9.06  9.13   9.19   311200.0   9.040833\n",
              "...          ...   ...   ...    ...        ...        ...\n",
              "2020-07-16  7.34  7.26  7.28   7.27   766200.0   7.270000\n",
              "2020-07-17  7.30  7.19  7.28   7.28   828800.0   7.280000\n",
              "2020-07-20  7.31  7.17  7.23   7.27   687800.0   7.270000\n",
              "2020-07-21  7.53  7.38  7.46   7.41  1506200.0   7.410000\n",
              "2020-07-22  7.45  7.33  7.34   7.43   550500.0   7.430000\n",
              "\n",
              "[392 rows x 6 columns]"
            ]
          },
          "metadata": {
            "tags": []
          },
          "execution_count": 101
        }
      ]
    },
    {
      "cell_type": "code",
      "metadata": {
        "id": "7BmsKywsr7RP",
        "colab_type": "code",
        "colab": {
          "base_uri": "https://localhost:8080/",
          "height": 34
        },
        "outputId": "c444cc3a-d02d-481c-fcdb-cdf76c52ce21"
      },
      "source": [
        "# Get the number of rows and columns in the data set\n",
        "df.shape"
      ],
      "execution_count": 102,
      "outputs": [
        {
          "output_type": "execute_result",
          "data": {
            "text/plain": [
              "(392, 6)"
            ]
          },
          "metadata": {
            "tags": []
          },
          "execution_count": 102
        }
      ]
    },
    {
      "cell_type": "code",
      "metadata": {
        "id": "VDZCNRGpsA9T",
        "colab_type": "code",
        "colab": {
          "base_uri": "https://localhost:8080/",
          "height": 518
        },
        "outputId": "6a796b2f-3f65-43dc-a1d6-4bcd36b4c235"
      },
      "source": [
        "# Visualize the closing price history\n",
        "plt.figure(figsize=(16,8))\n",
        "plt.title('Close Price History')\n",
        "plt.plot(df['Close'])\n",
        "plt.xlabel('Date', fontsize=18)\n",
        "plt.ylabel('Close Price USD', fontsize=18)\n",
        "plt.show()"
      ],
      "execution_count": 103,
      "outputs": [
        {
          "output_type": "display_data",
          "data": {
            "image/png": "[encoded data removed]",
            "text/plain": [
              "<Figure size 1152x576 with 1 Axes>"
            ]
          },
          "metadata": {
            "tags": [],
            "needs_background": "light"
          }
        }
      ]
    },
    {
      "cell_type": "code",
      "metadata": {
        "id": "JZkzxwqaswKB",
        "colab_type": "code",
        "colab": {
          "base_uri": "https://localhost:8080/",
          "height": 34
        },
        "outputId": "ba29f187-1d74-4ea6-9605-2680c276f9b7"
      },
      "source": [
        "# Create a new dataframe with only the 'Close' column\n",
        "data = df.filter(['Close'])\n",
        "# Convert the dataframe to a numpy array\n",
        "dataset = data.values\n",
        "# Get the number of rows to train the LST model on \n",
        "training_data_len = math.ceil( len(dataset) * 0.8 )\n",
        "training_data_len"
      ],
      "execution_count": 104,
      "outputs": [
        {
          "output_type": "execute_result",
          "data": {
            "text/plain": [
              "314"
            ]
          },
          "metadata": {
            "tags": []
          },
          "execution_count": 104
        }
      ]
    },
    {
      "cell_type": "code",
      "metadata": {
        "id": "jHZsk2Y1PxPJ",
        "colab_type": "code",
        "colab": {
          "base_uri": "https://localhost:8080/",
          "height": 1000
        },
        "outputId": "af9da6a2-8744-46c9-92bf-66c9d9a63a5b"
      },
      "source": [
        "# Scale the data \n",
        "scaler = MinMaxScaler(feature_range=(0,1))\n",
        "scaled_data = scaler.fit_transform(dataset)\n",
        "\n",
        "scaled_data"
      ],
      "execution_count": 105,
      "outputs": [
        {
          "output_type": "execute_result",
          "data": {
            "text/plain": [
              "array([[0.57453939],\n",
              "       [0.58626463],\n",
              "       [0.62144051],\n",
              "       [0.63651592],\n",
              "       [0.66834164],\n",
              "       [0.74539357],\n",
              "       [0.75209373],\n",
              "       [0.72529309],\n",
              "       [0.69514244],\n",
              "       [0.73701849],\n",
              "       [0.74539357],\n",
              "       [0.74371865],\n",
              "       [0.78559469],\n",
              "       [0.75879389],\n",
              "       [0.74539357],\n",
              "       [0.76549421],\n",
              "       [0.77721945],\n",
              "       [0.73366833],\n",
              "       [0.76549421],\n",
              "       [0.79731994],\n",
              "       [0.79061977],\n",
              "       [0.83082074],\n",
              "       [0.81742042],\n",
              "       [0.78894469],\n",
              "       [0.79229485],\n",
              "       [0.76214405],\n",
              "       [0.76381913],\n",
              "       [0.75544389],\n",
              "       [0.77554437],\n",
              "       [0.79731994],\n",
              "       [0.80737026],\n",
              "       [0.85092122],\n",
              "       [0.85594646],\n",
              "       [0.86097154],\n",
              "       [0.85929646],\n",
              "       [0.86432154],\n",
              "       [0.81742042],\n",
              "       [0.8375209 ],\n",
              "       [0.86264662],\n",
              "       [0.86097154],\n",
              "       [0.82914566],\n",
              "       [0.85092122],\n",
              "       [0.85594646],\n",
              "       [0.8492463 ],\n",
              "       [0.85427138],\n",
              "       [0.84422106],\n",
              "       [0.85594646],\n",
              "       [0.85762138],\n",
              "       [0.88274711],\n",
              "       [0.88107203],\n",
              "       [0.87772187],\n",
              "       [0.88609711],\n",
              "       [0.87772187],\n",
              "       [0.90117251],\n",
              "       [0.89112235],\n",
              "       [0.8710217 ],\n",
              "       [0.87939695],\n",
              "       [0.88609711],\n",
              "       [0.87437186],\n",
              "       [0.87772187],\n",
              "       [0.88944727],\n",
              "       [0.91792299],\n",
              "       [0.92797315],\n",
              "       [0.93132331],\n",
              "       [0.92629807],\n",
              "       [0.93969855],\n",
              "       [0.94974871],\n",
              "       [0.94472363],\n",
              "       [0.96817412],\n",
              "       [0.95644887],\n",
              "       [0.9664992 ],\n",
              "       [0.9664992 ],\n",
              "       [0.97319936],\n",
              "       [0.9664992 ],\n",
              "       [0.96147396],\n",
              "       [0.9849246 ],\n",
              "       [1.        ],\n",
              "       [0.99832492],\n",
              "       [0.98827476],\n",
              "       [0.93467331],\n",
              "       [0.95309887],\n",
              "       [0.95812395],\n",
              "       [0.95812395],\n",
              "       [0.90619759],\n",
              "       [0.91457283],\n",
              "       [0.93802347],\n",
              "       [0.89112235],\n",
              "       [0.91457283],\n",
              "       [0.90619759],\n",
              "       [0.91122283],\n",
              "       [0.89112235],\n",
              "       [0.92462315],\n",
              "       [0.94304855],\n",
              "       [0.95477379],\n",
              "       [0.94472363],\n",
              "       [0.95477379],\n",
              "       [0.95477379],\n",
              "       [0.90117251],\n",
              "       [0.81574534],\n",
              "       [0.84589614],\n",
              "       [0.85427138],\n",
              "       [0.84757122],\n",
              "       [0.78391961],\n",
              "       [0.69514244],\n",
              "       [0.68341704],\n",
              "       [0.70351752],\n",
              "       [0.65159132],\n",
              "       [0.69346736],\n",
              "       [0.72194309],\n",
              "       [0.71356785],\n",
              "       [0.72026801],\n",
              "       [0.65996656],\n",
              "       [0.6867672 ],\n",
              "       [0.69346736],\n",
              "       [0.67671688],\n",
              "       [0.72529309],\n",
              "       [0.73199325],\n",
              "       [0.79229485],\n",
              "       [0.80904518],\n",
              "       [0.81239534],\n",
              "       [0.81407042],\n",
              "       [0.84757122],\n",
              "       [0.84757122],\n",
              "       [0.81072026],\n",
              "       [0.84422106],\n",
              "       [0.77721945],\n",
              "       [0.79396978],\n",
              "       [0.81574534],\n",
              "       [0.81239534],\n",
              "       [0.82747074],\n",
              "       [0.88442203],\n",
              "       [0.88609711],\n",
              "       [0.88274711],\n",
              "       [0.8525963 ],\n",
              "       [0.82579566],\n",
              "       [0.79229485],\n",
              "       [0.76716913],\n",
              "       [0.78894469],\n",
              "       [0.79061977],\n",
              "       [0.80904518],\n",
              "       [0.77889453],\n",
              "       [0.78391961],\n",
              "       [0.79396978],\n",
              "       [0.80904518],\n",
              "       [0.83919598],\n",
              "       [0.83249582],\n",
              "       [0.73199325],\n",
              "       [0.75209373],\n",
              "       [0.73366833],\n",
              "       [0.7051926 ],\n",
              "       [0.6566164 ],\n",
              "       [0.66499164],\n",
              "       [0.69849244],\n",
              "       [0.71021769],\n",
              "       [0.78391961],\n",
              "       [0.72529309],\n",
              "       [0.70016752],\n",
              "       [0.7051926 ],\n",
              "       [0.73199325],\n",
              "       [0.73534341],\n",
              "       [0.74371865],\n",
              "       [0.73199325],\n",
              "       [0.6901172 ],\n",
              "       [0.68341704],\n",
              "       [0.72194309],\n",
              "       [0.74371865],\n",
              "       [0.75544389],\n",
              "       [0.71189277],\n",
              "       [0.68844228],\n",
              "       [0.75879389],\n",
              "       [0.75711897],\n",
              "       [0.76884421],\n",
              "       [0.80234502],\n",
              "       [0.79061977],\n",
              "       [0.75544389],\n",
              "       [0.73031833],\n",
              "       [0.72696817],\n",
              "       [0.86432154],\n",
              "       [0.8040201 ],\n",
              "       [0.79229485],\n",
              "       [0.81072026],\n",
              "       [0.81407042],\n",
              "       [0.8190955 ],\n",
              "       [0.77386929],\n",
              "       [0.76549421],\n",
              "       [0.76716913],\n",
              "       [0.75209373],\n",
              "       [0.71356785],\n",
              "       [0.69514244],\n",
              "       [0.67001672],\n",
              "       [0.66499164],\n",
              "       [0.68509212],\n",
              "       [0.68844228],\n",
              "       [0.67336688],\n",
              "       [0.68509212],\n",
              "       [0.71524293],\n",
              "       [0.75041881],\n",
              "       [0.72361817],\n",
              "       [0.70351752],\n",
              "       [0.71691785],\n",
              "       [0.73199325],\n",
              "       [0.72026801],\n",
              "       [0.72026801],\n",
              "       [0.74204357],\n",
              "       [0.78391961],\n",
              "       [0.79564486],\n",
              "       [0.80737026],\n",
              "       [0.78391961],\n",
              "       [0.77889453],\n",
              "       [0.75376881],\n",
              "       [0.73366833],\n",
              "       [0.79061977],\n",
              "       [0.80569518],\n",
              "       [0.8190955 ],\n",
              "       [0.79731994],\n",
              "       [0.80737026],\n",
              "       [0.82412058],\n",
              "       [0.81239534],\n",
              "       [0.81407042],\n",
              "       [0.82579566],\n",
              "       [0.81574534],\n",
              "       [0.8375209 ],\n",
              "       [0.81239534],\n",
              "       [0.76884421],\n",
              "       [0.81574534],\n",
              "       [0.85427138],\n",
              "       [0.84422106],\n",
              "       [0.84422106],\n",
              "       [0.85929646],\n",
              "       [0.8525963 ],\n",
              "       [0.77889453],\n",
              "       [0.79061977],\n",
              "       [0.80066994],\n",
              "       [0.85929646],\n",
              "       [0.86097154],\n",
              "       [0.87604695],\n",
              "       [0.87604695],\n",
              "       [0.88609711],\n",
              "       [0.8710217 ],\n",
              "       [0.88609711],\n",
              "       [0.89782251],\n",
              "       [0.91624791],\n",
              "       [0.93132331],\n",
              "       [0.93634839],\n",
              "       [0.94304855],\n",
              "       [0.92462315],\n",
              "       [0.90787267],\n",
              "       [0.91457283],\n",
              "       [0.93132331],\n",
              "       [0.93299839],\n",
              "       [0.93132331],\n",
              "       [0.91624791],\n",
              "       [0.91959791],\n",
              "       [0.97319936],\n",
              "       [0.9698492 ],\n",
              "       [0.96482412],\n",
              "       [0.89782251],\n",
              "       [0.88107203],\n",
              "       [0.8676717 ],\n",
              "       [0.83919598],\n",
              "       [0.84757122],\n",
              "       [0.8341709 ],\n",
              "       [0.8492463 ],\n",
              "       [0.85762138],\n",
              "       [0.84254598],\n",
              "       [0.79731994],\n",
              "       [0.76381913],\n",
              "       [0.73031833],\n",
              "       [0.6867672 ],\n",
              "       [0.7051926 ],\n",
              "       [0.69179228],\n",
              "       [0.68174212],\n",
              "       [0.64991624],\n",
              "       [0.60134003],\n",
              "       [0.59463987],\n",
              "       [0.62981576],\n",
              "       [0.638191  ],\n",
              "       [0.62814068],\n",
              "       [0.61474035],\n",
              "       [0.62311559],\n",
              "       [0.64824116],\n",
              "       [0.64656624],\n",
              "       [0.65159132],\n",
              "       [0.6566164 ],\n",
              "       [0.67671688],\n",
              "       [0.6750418 ],\n",
              "       [0.65829148],\n",
              "       [0.63316576],\n",
              "       [0.57956447],\n",
              "       [0.56113907],\n",
              "       [0.52763826],\n",
              "       [0.48911222],\n",
              "       [0.5393635 ],\n",
              "       [0.53433842],\n",
              "       [0.5393635 ],\n",
              "       [0.51088778],\n",
              "       [0.43718593],\n",
              "       [0.21943055],\n",
              "       [0.2964824 ],\n",
              "       [0.26130659],\n",
              "       [0.23450587],\n",
              "       [0.25125627],\n",
              "       [0.16750418],\n",
              "       [0.14070354],\n",
              "       [0.04355113],\n",
              "       [0.14070354],\n",
              "       [0.09547741],\n",
              "       [0.11055281],\n",
              "       [0.11892797],\n",
              "       [0.15912902],\n",
              "       [0.14237862],\n",
              "       [0.15912902],\n",
              "       [0.1624791 ],\n",
              "       [0.15577894],\n",
              "       [0.11557789],\n",
              "       [0.11892797],\n",
              "       [0.1457287 ],\n",
              "       [0.16080402],\n",
              "       [0.1792295 ],\n",
              "       [0.17587942],\n",
              "       [0.17085426],\n",
              "       [0.21943055],\n",
              "       [0.22110555],\n",
              "       [0.16080402],\n",
              "       [0.16080402],\n",
              "       [0.1624791 ],\n",
              "       [0.14405362],\n",
              "       [0.01842548],\n",
              "       [0.04355113],\n",
              "       [0.04020104],\n",
              "       [0.02345064],\n",
              "       [0.00167508],\n",
              "       [0.        ],\n",
              "       [0.00837524],\n",
              "       [0.05695145],\n",
              "       [0.02847572],\n",
              "       [0.05192637],\n",
              "       [0.10385265],\n",
              "       [0.06532669],\n",
              "       [0.05025129],\n",
              "       [0.10050257],\n",
              "       [0.08207709],\n",
              "       [0.05695145],\n",
              "       [0.05192637],\n",
              "       [0.07705193],\n",
              "       [0.10217757],\n",
              "       [0.16080402],\n",
              "       [0.15577894],\n",
              "       [0.18592966],\n",
              "       [0.1959799 ],\n",
              "       [0.18425466],\n",
              "       [0.20938023],\n",
              "       [0.1775545 ],\n",
              "       [0.18592966],\n",
              "       [0.21775547],\n",
              "       [0.23618095],\n",
              "       [0.25628143],\n",
              "       [0.25963151],\n",
              "       [0.26968175],\n",
              "       [0.3115578 ],\n",
              "       [0.28308207],\n",
              "       [0.29313232],\n",
              "       [0.29983248],\n",
              "       [0.22948079],\n",
              "       [0.24120603],\n",
              "       [0.26465667],\n",
              "       [0.29145731],\n",
              "       [0.27470691],\n",
              "       [0.2948074 ],\n",
              "       [0.30485764],\n",
              "       [0.33333336],\n",
              "       [0.32328312],\n",
              "       [0.27135683],\n",
              "       [0.29983248],\n",
              "       [0.27470691],\n",
              "       [0.30653272],\n",
              "       [0.29983248],\n",
              "       [0.3115578 ],\n",
              "       [0.32495812],\n",
              "       [0.33500836],\n",
              "       [0.33333336],\n",
              "       [0.34505868],\n",
              "       [0.32160804],\n",
              "       [0.3433836 ],\n",
              "       [0.32328312],\n",
              "       [0.34003352],\n",
              "       [0.35175884],\n",
              "       [0.34673368],\n",
              "       [0.34840876],\n",
              "       [0.34673368],\n",
              "       [0.37018424],\n",
              "       [0.37353432]])"
            ]
          },
          "metadata": {
            "tags": []
          },
          "execution_count": 105
        }
      ]
    },
    {
      "cell_type": "code",
      "metadata": {
        "id": "X5uofA7uRN6Y",
        "colab_type": "code",
        "colab": {
          "base_uri": "https://localhost:8080/",
          "height": 680
        },
        "outputId": "471e2fc4-7bfe-4c39-b8f8-8bb2e1c8b8c1"
      },
      "source": [
        "# Create the training data set\n",
        "# Create the scaled training data set\n",
        "train_data = scaled_data[0:training_data_len , :]\n",
        "# Split the data into x_train and y_train data sets\n",
        "x_train = []\n",
        "y_train = []\n",
        "\n",
        "for i in range(60, len(train_data)):\n",
        "  x_train.append(train_data[i-60:i, 0])\n",
        "  y_train.append(train_data[i, 0])\n",
        "  if i<= 61:\n",
        "    print(x_train)\n",
        "    print(y_train)\n",
        "    print()"
      ],
      "execution_count": 106,
      "outputs": [
        {
          "output_type": "stream",
          "text": [
            "[array([0.57453939, 0.58626463, 0.62144051, 0.63651592, 0.66834164,\n",
            "       0.74539357, 0.75209373, 0.72529309, 0.69514244, 0.73701849,\n",
            "       0.74539357, 0.74371865, 0.78559469, 0.75879389, 0.74539357,\n",
            "       0.76549421, 0.77721945, 0.73366833, 0.76549421, 0.79731994,\n",
            "       0.79061977, 0.83082074, 0.81742042, 0.78894469, 0.79229485,\n",
            "       0.76214405, 0.76381913, 0.75544389, 0.77554437, 0.79731994,\n",
            "       0.80737026, 0.85092122, 0.85594646, 0.86097154, 0.85929646,\n",
            "       0.86432154, 0.81742042, 0.8375209 , 0.86264662, 0.86097154,\n",
            "       0.82914566, 0.85092122, 0.85594646, 0.8492463 , 0.85427138,\n",
            "       0.84422106, 0.85594646, 0.85762138, 0.88274711, 0.88107203,\n",
            "       0.87772187, 0.88609711, 0.87772187, 0.90117251, 0.89112235,\n",
            "       0.8710217 , 0.87939695, 0.88609711, 0.87437186, 0.87772187])]\n",
            "[0.8894472666848668]\n",
            "\n",
            "[array([0.57453939, 0.58626463, 0.62144051, 0.63651592, 0.66834164,\n",
            "       0.74539357, 0.75209373, 0.72529309, 0.69514244, 0.73701849,\n",
            "       0.74539357, 0.74371865, 0.78559469, 0.75879389, 0.74539357,\n",
            "       0.76549421, 0.77721945, 0.73366833, 0.76549421, 0.79731994,\n",
            "       0.79061977, 0.83082074, 0.81742042, 0.78894469, 0.79229485,\n",
            "       0.76214405, 0.76381913, 0.75544389, 0.77554437, 0.79731994,\n",
            "       0.80737026, 0.85092122, 0.85594646, 0.86097154, 0.85929646,\n",
            "       0.86432154, 0.81742042, 0.8375209 , 0.86264662, 0.86097154,\n",
            "       0.82914566, 0.85092122, 0.85594646, 0.8492463 , 0.85427138,\n",
            "       0.84422106, 0.85594646, 0.85762138, 0.88274711, 0.88107203,\n",
            "       0.87772187, 0.88609711, 0.87772187, 0.90117251, 0.89112235,\n",
            "       0.8710217 , 0.87939695, 0.88609711, 0.87437186, 0.87772187]), array([0.58626463, 0.62144051, 0.63651592, 0.66834164, 0.74539357,\n",
            "       0.75209373, 0.72529309, 0.69514244, 0.73701849, 0.74539357,\n",
            "       0.74371865, 0.78559469, 0.75879389, 0.74539357, 0.76549421,\n",
            "       0.77721945, 0.73366833, 0.76549421, 0.79731994, 0.79061977,\n",
            "       0.83082074, 0.81742042, 0.78894469, 0.79229485, 0.76214405,\n",
            "       0.76381913, 0.75544389, 0.77554437, 0.79731994, 0.80737026,\n",
            "       0.85092122, 0.85594646, 0.86097154, 0.85929646, 0.86432154,\n",
            "       0.81742042, 0.8375209 , 0.86264662, 0.86097154, 0.82914566,\n",
            "       0.85092122, 0.85594646, 0.8492463 , 0.85427138, 0.84422106,\n",
            "       0.85594646, 0.85762138, 0.88274711, 0.88107203, 0.87772187,\n",
            "       0.88609711, 0.87772187, 0.90117251, 0.89112235, 0.8710217 ,\n",
            "       0.87939695, 0.88609711, 0.87437186, 0.87772187, 0.88944727])]\n",
            "[0.8894472666848668, 0.9179229900835447]\n",
            "\n"
          ],
          "name": "stdout"
        }
      ]
    },
    {
      "cell_type": "code",
      "metadata": {
        "id": "aXCItPJWSpJd",
        "colab_type": "code",
        "colab": {}
      },
      "source": [
        "# Convert the x_train and y_train to numpy arrays\n",
        "x_train, y_train = np.array(x_train), np.array(y_train)"
      ],
      "execution_count": 107,
      "outputs": []
    },
    {
      "cell_type": "code",
      "metadata": {
        "id": "pUkWuJ60SwRK",
        "colab_type": "code",
        "colab": {
          "base_uri": "https://localhost:8080/",
          "height": 34
        },
        "outputId": "2e0a33c7-f0c3-4ad9-8baa-c18ec582dd76"
      },
      "source": [
        "# Reshape the data for LSTM for a 3D shape\n",
        "x_train = np.reshape(x_train, (x_train.shape[0], x_train.shape[1], 1))\n",
        "x_train.shape"
      ],
      "execution_count": 108,
      "outputs": [
        {
          "output_type": "execute_result",
          "data": {
            "text/plain": [
              "(254, 60, 1)"
            ]
          },
          "metadata": {
            "tags": []
          },
          "execution_count": 108
        }
      ]
    },
    {
      "cell_type": "code",
      "metadata": {
        "id": "RROm_gJUTJzI",
        "colab_type": "code",
        "colab": {}
      },
      "source": [
        "# Build the LSTM model\n",
        "model = Sequential()\n",
        "model.add(LSTM(50, return_sequences=True, input_shape = (x_train.shape[1], 1)))\n",
        "model.add(LSTM(50, return_sequences= False))\n",
        "model.add(Dense(25))\n",
        "model.add(Dense(1))"
      ],
      "execution_count": 109,
      "outputs": []
    },
    {
      "cell_type": "code",
      "metadata": {
        "id": "qNK-ES57ZeKv",
        "colab_type": "code",
        "colab": {}
      },
      "source": [
        "# Compile the model\n",
        "model.compile(optimizer='adam', loss='mean_squared_error')"
      ],
      "execution_count": 110,
      "outputs": []
    },
    {
      "cell_type": "code",
      "metadata": {
        "id": "6VuKzWZnZsZA",
        "colab_type": "code",
        "colab": {
          "base_uri": "https://localhost:8080/",
          "height": 68
        },
        "outputId": "69672b46-d012-47ed-d70e-1b05cd8c41cf"
      },
      "source": [
        "# Train the model\n",
        "model.fit(x_train, y_train, batch_size=1, epochs=1)"
      ],
      "execution_count": 111,
      "outputs": [
        {
          "output_type": "stream",
          "text": [
            "Epoch 1/1\n",
            "254/254 [==============================] - 11s 43ms/step - loss: 0.0210\n"
          ],
          "name": "stdout"
        },
        {
          "output_type": "execute_result",
          "data": {
            "text/plain": [
              "<keras.callbacks.callbacks.History at 0x7f9edea416a0>"
            ]
          },
          "metadata": {
            "tags": []
          },
          "execution_count": 111
        }
      ]
    },
    {
      "cell_type": "code",
      "metadata": {
        "id": "D2NkxkmCdpYB",
        "colab_type": "code",
        "colab": {}
      },
      "source": [
        "# Create the testing data set\n",
        "# Create a new array containing scaled values from index 1543 to 2003\n",
        "test_data = scaled_data[training_data_len - 60: , :]\n",
        "# Create the data sets x_test and y_test\n",
        "x_test = []\n",
        "y_test = dataset[training_data_len:, :]\n",
        "for i in range(60, len(test_data)):\n",
        "  x_test.append(test_data[i-60:i, 0])"
      ],
      "execution_count": 112,
      "outputs": []
    },
    {
      "cell_type": "code",
      "metadata": {
        "id": "ty8_H1I1eenO",
        "colab_type": "code",
        "colab": {}
      },
      "source": [
        "# Convert the data to a numpy array\n",
        "x_test = np.array(x_test)"
      ],
      "execution_count": 113,
      "outputs": []
    },
    {
      "cell_type": "code",
      "metadata": {
        "id": "bbgpu17Se6q-",
        "colab_type": "code",
        "colab": {}
      },
      "source": [
        "# Reshape the data\n",
        "x_test = np.reshape(x_test, (x_test.shape[0], x_test.shape[1], 1))"
      ],
      "execution_count": 114,
      "outputs": []
    },
    {
      "cell_type": "code",
      "metadata": {
        "id": "sc5UyDjofSF8",
        "colab_type": "code",
        "colab": {}
      },
      "source": [
        "# Get the models predicted price values \n",
        "predictions = model.predict(x_test)\n",
        "predictions = scaler.inverse_transform(predictions)"
      ],
      "execution_count": 115,
      "outputs": []
    },
    {
      "cell_type": "code",
      "metadata": {
        "id": "laEm-gilftWy",
        "colab_type": "code",
        "colab": {
          "base_uri": "https://localhost:8080/",
          "height": 34
        },
        "outputId": "c05fb4d0-5245-4f97-c5ad-432fece73b2f"
      },
      "source": [
        "# Get the root mean squre error (RMSE) - to test the performance of the model\n",
        "rmse = np.sqrt(np.mean(predictions - y_test)**2)\n",
        "rmse"
      ],
      "execution_count": 116,
      "outputs": [
        {
          "output_type": "execute_result",
          "data": {
            "text/plain": [
              "0.1777217938349797"
            ]
          },
          "metadata": {
            "tags": []
          },
          "execution_count": 116
        }
      ]
    },
    {
      "cell_type": "code",
      "metadata": {
        "id": "NwJJCErlgR0u",
        "colab_type": "code",
        "colab": {
          "base_uri": "https://localhost:8080/",
          "height": 620
        },
        "outputId": "7f0b329e-8cf9-4908-8ddb-da0a52347a38"
      },
      "source": [
        "# Plot the data \n",
        "train = data[:training_data_len]\n",
        "valid = data[training_data_len:]\n",
        "valid['Predictions'] = predictions\n",
        "# Visualize the data\n",
        "plt.figure(figsize=(16,8))\n",
        "plt.title('Model')\n",
        "plt.xlabel('Date',fontsize=18)\n",
        "plt.ylabel('Close Price USD', fontsize=18)\n",
        "plt.plot(train['Close'])\n",
        "plt.plot(valid[['Close', 'Predictions']])\n",
        "plt.legend(['Train', 'Val', 'Predictions'], loc='lower right')\n",
        "plt.show()"
      ],
      "execution_count": 117,
      "outputs": [
        {
          "output_type": "stream",
          "text": [
            "/usr/local/lib/python3.6/dist-packages/ipykernel_launcher.py:4: SettingWithCopyWarning: \n",
            "A value is trying to be set on a copy of a slice from a DataFrame.\n",
            "Try using .loc[row_indexer,col_indexer] = value instead\n",
            "\n",
            "See the caveats in the documentation: https://pandas.pydata.org/pandas-docs/stable/user_guide/indexing.html#returning-a-view-versus-a-copy\n",
            "  after removing the cwd from sys.path.\n"
          ],
          "name": "stderr"
        },
        {
          "output_type": "display_data",
          "data": {
            "image/png": "[encoded data removed]",
            "text/plain": [
              "<Figure size 1152x576 with 1 Axes>"
            ]
          },
          "metadata": {
            "tags": [],
            "needs_background": "light"
          }
        }
      ]
    },
    {
      "cell_type": "code",
      "metadata": {
        "id": "b88Ucip7hkrU",
        "colab_type": "code",
        "colab": {
          "base_uri": "https://localhost:8080/",
          "height": 450
        },
        "outputId": "1d2f34d7-7aea-4b7e-8e5b-5af20a86decd"
      },
      "source": [
        "# Show the valid and predicted prices\n",
        "valid"
      ],
      "execution_count": 118,
      "outputs": [
        {
          "output_type": "execute_result",
          "data": {
            "text/html": [
              "<div>\n",
              "<style scoped>\n",
              "    .dataframe tbody tr th:only-of-type {\n",
              "        vertical-align: middle;\n",
              "    }\n",
              "\n",
              "    .dataframe tbody tr th {\n",
              "        vertical-align: top;\n",
              "    }\n",
              "\n",
              "    .dataframe thead th {\n",
              "        text-align: right;\n",
              "    }\n",
              "</style>\n",
              "<table border=\"1\" class=\"dataframe\">\n",
              "  <thead>\n",
              "    <tr style=\"text-align: right;\">\n",
              "      <th></th>\n",
              "      <th>Close</th>\n",
              "      <th>Predictions</th>\n",
              "    </tr>\n",
              "    <tr>\n",
              "      <th>Date</th>\n",
              "      <th></th>\n",
              "      <th></th>\n",
              "    </tr>\n",
              "  </thead>\n",
              "  <tbody>\n",
              "    <tr>\n",
              "      <th>2020-04-01</th>\n",
              "      <td>5.89</td>\n",
              "      <td>5.888173</td>\n",
              "    </tr>\n",
              "    <tr>\n",
              "      <th>2020-04-02</th>\n",
              "      <td>5.91</td>\n",
              "      <td>5.876271</td>\n",
              "    </tr>\n",
              "    <tr>\n",
              "      <th>2020-04-03</th>\n",
              "      <td>6.07</td>\n",
              "      <td>5.864137</td>\n",
              "    </tr>\n",
              "    <tr>\n",
              "      <th>2020-04-06</th>\n",
              "      <td>6.16</td>\n",
              "      <td>5.860580</td>\n",
              "    </tr>\n",
              "    <tr>\n",
              "      <th>2020-04-07</th>\n",
              "      <td>6.27</td>\n",
              "      <td>5.867851</td>\n",
              "    </tr>\n",
              "    <tr>\n",
              "      <th>...</th>\n",
              "      <td>...</td>\n",
              "      <td>...</td>\n",
              "    </tr>\n",
              "    <tr>\n",
              "      <th>2020-07-16</th>\n",
              "      <td>7.27</td>\n",
              "      <td>7.194983</td>\n",
              "    </tr>\n",
              "    <tr>\n",
              "      <th>2020-07-17</th>\n",
              "      <td>7.28</td>\n",
              "      <td>7.217008</td>\n",
              "    </tr>\n",
              "    <tr>\n",
              "      <th>2020-07-20</th>\n",
              "      <td>7.27</td>\n",
              "      <td>7.237989</td>\n",
              "    </tr>\n",
              "    <tr>\n",
              "      <th>2020-07-21</th>\n",
              "      <td>7.41</td>\n",
              "      <td>7.256606</td>\n",
              "    </tr>\n",
              "    <tr>\n",
              "      <th>2020-07-22</th>\n",
              "      <td>7.43</td>\n",
              "      <td>7.280848</td>\n",
              "    </tr>\n",
              "  </tbody>\n",
              "</table>\n",
              "<p>78 rows × 2 columns</p>\n",
              "</div>"
            ],
            "text/plain": [
              "            Close  Predictions\n",
              "Date                          \n",
              "2020-04-01   5.89     5.888173\n",
              "2020-04-02   5.91     5.876271\n",
              "2020-04-03   6.07     5.864137\n",
              "2020-04-06   6.16     5.860580\n",
              "2020-04-07   6.27     5.867851\n",
              "...           ...          ...\n",
              "2020-07-16   7.27     7.194983\n",
              "2020-07-17   7.28     7.217008\n",
              "2020-07-20   7.27     7.237989\n",
              "2020-07-21   7.41     7.256606\n",
              "2020-07-22   7.43     7.280848\n",
              "\n",
              "[78 rows x 2 columns]"
            ]
          },
          "metadata": {
            "tags": []
          },
          "execution_count": 118
        }
      ]
    },
    {
      "cell_type": "code",
      "metadata": {
        "id": "YZM_VasKh0j3",
        "colab_type": "code",
        "colab": {
          "base_uri": "https://localhost:8080/",
          "height": 34
        },
        "outputId": "d229785a-a12d-442a-fce1-94c4a6f5e01c"
      },
      "source": [
        "# Get the quote\n",
        "dbo_quote = web.DataReader('DBO', data_source='yahoo', start='2019-01-01', end='2020-07-22')\n",
        "new_df = dbo_quote.filter(['Close'])\n",
        "# Get the last 60 day closing price values and convert the dataframe to an array\n",
        "last_60_days = new_df[-60:].values\n",
        "# Scale the data to be values between 0 and 1\n",
        "last_60_days_scaled = scaler.transform(last_60_days)\n",
        "# Create an empty list\n",
        "X_test = []\n",
        "# Append the past 60 days\n",
        "X_test.append(last_60_days_scaled)\n",
        "# Convert the X_test data set to a numpy array\n",
        "X_test = np.array(X_test)\n",
        "# Reshape the data\n",
        "X_test = np.reshape(X_test, (X_test.shape[0], X_test.shape[1], 1))\n",
        "# Get the predicted scaled price\n",
        "pred_price = model.predict(X_test)\n",
        "# Undo the scaling \n",
        "pred_price = scaler.inverse_transform(pred_price)\n",
        "print(pred_price)"
      ],
      "execution_count": 119,
      "outputs": [
        {
          "output_type": "stream",
          "text": [
            "[[7.3089347]]\n"
          ],
          "name": "stdout"
        }
      ]
    },
    {
      "cell_type": "code",
      "metadata": {
        "id": "7rXtI9CLjXr2",
        "colab_type": "code",
        "colab": {
          "base_uri": "https://localhost:8080/",
          "height": 68
        },
        "outputId": "ed7605b4-9427-4aa9-bf6f-70368407f18f"
      },
      "source": [
        "# Get the quote\n",
        "dbo_quote2 = web.DataReader('DBO', data_source='yahoo', start='2020-07-22', end='2020-07-22')\n",
        "print(dbo_quote2['Close'])"
      ],
      "execution_count": 120,
      "outputs": [
        {
          "output_type": "stream",
          "text": [
            "Date\n",
            "2020-07-22    7.43\n",
            "Name: Close, dtype: float64\n"
          ],
          "name": "stdout"
        }
      ]
    },
    {
      "cell_type": "code",
      "metadata": {
        "id": "cTPEuWzam_67",
        "colab_type": "code",
        "colab": {
          "base_uri": "https://localhost:8080/",
          "height": 34
        },
        "outputId": "097f8463-6e72-4f75-9521-02cf373eb707"
      },
      "source": [
        "((7.3089347 - 7.43) / 7.3089347)*100"
      ],
      "execution_count": 122,
      "outputs": [
        {
          "output_type": "execute_result",
          "data": {
            "text/plain": [
              "-1.6564014452065048"
            ]
          },
          "metadata": {
            "tags": []
          },
          "execution_count": 122
        }
      ]
    }
  ]
}