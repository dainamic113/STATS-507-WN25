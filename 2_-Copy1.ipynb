{
 "cells": [
  {
   "cell_type": "code",
   "execution_count": 6,
   "id": "a244e711-aab8-4ab3-8121-d8fbf83b8b8a",
   "metadata": {
    "tags": []
   },
   "outputs": [
    {
     "ename": "SyntaxError",
     "evalue": "incomplete input (167610407.py, line 59)",
     "output_type": "error",
     "traceback": [
      "\u001b[0;36m  Cell \u001b[0;32mIn[6], line 59\u001b[0;36m\u001b[0m\n\u001b[0;31m    plt.show(\u001b[0m\n\u001b[0m             ^\u001b[0m\n\u001b[0;31mSyntaxError\u001b[0m\u001b[0;31m:\u001b[0m incomplete input\n"
     ]
    }
   ],
   "source": [
    "import yfinance as yf\n",
    "import pandas as pd\n",
    "import numpy as np\n",
    "import matplotlib.pyplot as plt\n",
    "\n",
    "# Define ticker symbols and corresponding Yahoo Finance symbols:\n",
    "tickers = {\n",
    "    \"DBO\": \"DBO\",          # Invesco DB Oil Fund ETF\n",
    "    \"WTI\": \"CL=F\",         # WTI Crude Oil Futures\n",
    "    \"DXY\": \"DX-Y.NYB\"      # U.S. Dollar Index\n",
    "}\n",
    "\n",
    "# Set the date range for data collection\n",
    "start_date = \"2010-01-01\"\n",
    "end_date = \"2024-12-31\"\n",
    "\n",
    "# Download daily close price data for each ticker\n",
    "price_data = {}\n",
    "for label, symbol in tickers.items():\n",
    "    df = yf.download(symbol, start=start_date, end=end_date)\n",
    "    # Extract the \"Close\" column for each asset\n",
    "    price_data[label] = df[\"Close\"]\n",
    "\n",
    "# Merge the individual Series into a single DataFrame.\n",
    "# This produces a MultiIndex; we drop the inner level.\n",
    "data = pd.concat(price_data, axis=1)\n",
    "data.columns = data.columns.droplevel(1)  # Now columns are 'DBO', 'WTI', 'DXY'\n",
    "\n",
    "# Create a complete daily date range (including non-trading days)\n",
    "all_days = pd.date_range(start=start_date, end=end_date, freq='D')\n",
    "data = data.reindex(all_days)\n",
    "\n",
    "# Ensure the index is a DateTimeIndex with daily frequency\n",
    "data.index = pd.to_datetime(data.index)\n",
    "data = data.asfreq('D')\n",
    "\n",
    "# Replace any Inf or -Inf with NaN\n",
    "data = data.replace([np.inf, -np.inf], np.nan)\n",
    "\n",
    "# Handle missing values: first forward fill, then backward fill, then interpolate any remaining gaps\n",
    "data = data.ffill().bfill().interpolate()\n",
    "\n",
    "# Show the first few rows of the merged DataFrame\n",
    "print(\"First few rows of the merged DataFrame:\")\n",
    "print(data.head())\n",
    "\n",
    "# Visualization using the provided code snippet:\n",
    "plt.figure(figsize=(14, 6))\n",
    "plt.plot(data.index, data['DBO'], label='DBO ETF')\n",
    "plt.plot(data.index, data['WTI'], label='WTI Crude Oil')\n",
    "plt.plot(data.index, data['DXY'], label='DXY Index')\n",
    "\n",
    "plt.title('Daily Prices of DBO ETF, WTI, and DXY (2010–2024)', fontsize=16)\n",
    "plt.xlabel('Date', fontsize=12)\n",
    "plt.ylabel('Price (USD)', fontsize=12)\n",
    "plt.legend()\n",
    "plt.grid(True)\n",
    "plt.tight_layout()\n",
    "plt.show()"
   ]
  },
  {
   "cell_type": "code",
   "execution_count": 4,
   "id": "10eb9d74-0bf8-4bc3-9499-fc4459547999",
   "metadata": {
    "tags": []
   },
   "outputs": [
    {
     "ename": "SyntaxError",
     "evalue": "incomplete input (596938239.py, line 63)",
     "output_type": "error",
     "traceback": [
      "\u001b[0;36m  Cell \u001b[0;32mIn[4], line 63\u001b[0;36m\u001b[0m\n\u001b[0;31m    plt.show(\u001b[0m\n\u001b[0m             ^\u001b[0m\n\u001b[0;31mSyntaxError\u001b[0m\u001b[0;31m:\u001b[0m incomplete input\n"
     ]
    }
   ],
   "source": [
    "from statsmodels.tsa.stattools import adfuller\n",
    "from statsmodels.tsa.statespace.sarimax import SARIMAX\n",
    "\n",
    "# --- Ensure the data index is a DateTimeIndex with daily frequency ---\n",
    "data.index = pd.to_datetime(data.index)\n",
    "data = data.asfreq('D')\n",
    "\n",
    "# --- Split data into training (2010–2019) and testing (2020–2024) sets ---\n",
    "train = data.loc['2010-01-01':'2019-12-31']\n",
    "test = data.loc['2020-01-01':'2024-12-31']\n",
    "\n",
    "# --- Optional: Final check to confirm no NaNs in the critical columns ---\n",
    "print(\"Missing values in training set (before modeling):\")\n",
    "print(train[['DBO', 'WTI', 'DXY']].isna().sum())\n",
    "print(\"\\nMissing values in test set (before forecasting):\")\n",
    "print(test[['WTI', 'DXY']].isna().sum())\n",
    "\n",
    "# --- Stationarity Test on DBO (target) using Augmented Dickey-Fuller (ADF) ---\n",
    "adf_result = adfuller(train['DBO'].dropna())\n",
    "print('\\nADF Statistic: {:.4f}'.format(adf_result[0]))\n",
    "print('p-value: {:.4f}'.format(adf_result[1]))\n",
    "\n",
    "# Set differencing order based on the ADF test p-value (d=1 if non-stationary, else d=0)\n",
    "d_order = 1 if adf_result[1] > 0.05 else 0\n",
    "print(\"Differencing order applied:\", d_order)\n",
    "\n",
    "# --- Build the ARIMAX Model using SARIMAX ---\n",
    "# Using a simple ARIMA order of (1, d_order, 1)\n",
    "model = SARIMAX(train['DBO'],\n",
    "                exog=train[['WTI', 'DXY']],\n",
    "                order=(1, d_order, 1),\n",
    "                enforce_stationarity=False,\n",
    "                enforce_invertibility=False)\n",
    "model_fit = model.fit(disp=False)\n",
    "print(\"\\nARIMAX Model Summary:\")\n",
    "print(model_fit.summary())\n",
    "\n",
    "# --- Forecasting for the period 2020–2024 ---\n",
    "forecast_steps = len(test)\n",
    "print(\"\\nForecast steps:\", forecast_steps)\n",
    "\n",
    "# Ensure that the exogenous test DataFrame matches the forecast period's length\n",
    "print(\"Test exogenous variables shape:\", test[['WTI', 'DXY']].shape)\n",
    "\n",
    "forecast_res = model_fit.get_forecast(steps=forecast_steps, exog=test[['WTI', 'DXY']])\n",
    "forecast_mean = forecast_res.predicted_mean\n",
    "forecast_ci = forecast_res.conf_int()\n",
    "\n",
    "# --- Visualization of the forecast ---\n",
    "plt.figure(figsize=(12, 6))\n",
    "plt.plot(train.index, train['DBO'], label='Train DBO')\n",
    "plt.plot(test.index, test['DBO'], label='Test DBO', color='black')\n",
    "plt.plot(test.index, forecast_mean, label='Forecast DBO', color='red', linestyle='--')\n",
    "plt.fill_between(test.index,\n",
    "                 forecast_ci.iloc[:, 0],\n",
    "                 forecast_ci.iloc[:, 1],\n",
    "                 color='pink', alpha=0.3, label='95% Confidence Interval')\n",
    "plt.title('ARIMAX Forecast for DBO (Train: 2010–2019, Forecast: 2020–2024)')\n",
    "plt.xlabel('Date')\n",
    "plt.ylabel('DBO Price (USD)')\n",
    "plt.legend()\n",
    "plt.tight_layout()\n",
    "plt.show()"
   ]
  },
  {
   "cell_type": "code",
   "execution_count": null,
   "id": "5f18c8ab-900b-4456-bc42-47ee390370da",
   "metadata": {},
   "outputs": [],
   "source": []
  }
 ],
 "metadata": {
  "kernelspec": {
   "display_name": "Python 3 (ipykernel)",
   "language": "python",
   "name": "python3"
  },
  "language_info": {
   "codemirror_mode": {
    "name": "ipython",
    "version": 3
   },
   "file_extension": ".py",
   "mimetype": "text/x-python",
   "name": "python",
   "nbconvert_exporter": "python",
   "pygments_lexer": "ipython3",
   "version": "3.11.7"
  }
 },
 "nbformat": 4,
 "nbformat_minor": 5
}
