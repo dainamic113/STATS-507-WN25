{
 "cells": [
  {
   "cell_type": "code",
   "execution_count": 9,
   "metadata": {
    "colab": {
     "base_uri": "https://localhost:8080/",
     "height": 88
    },
    "colab_type": "code",
    "id": "cNHtoBwAnsoV",
    "outputId": "82ed8286-f4b8-4194-b6f2-81a6c43db164",
    "tags": []
   },
   "outputs": [],
   "source": [
    "# Description: In conjunction of analyzing DBO"
   ]
  },
  {
   "cell_type": "code",
   "execution_count": 11,
   "metadata": {
    "colab": {},
    "colab_type": "code",
    "id": "0D0G4Zmko38a",
    "tags": []
   },
   "outputs": [],
   "source": [
    "# Import libraries needed\n",
    "import math\n",
    "import yfinance as yf\n",
    "import pandas as pd\n",
    "import tensorflow as tf\n",
    "from sklearn.preprocessing import MinMaxScaler\n",
    "from keras.models import Sequential\n",
    "from keras.layers import Dense, LSTM\n",
    "import numpy as np\n",
    "from statsmodels import regression\n",
    "import statsmodels.api as sm\n",
    "import matplotlib.pyplot as plt\n",
    "plt.style.use('fivethirtyeight')"
   ]
  },
  {
   "cell_type": "code",
   "execution_count": 13,
   "metadata": {
    "colab": {
     "base_uri": "https://localhost:8080/",
     "height": 450
    },
    "colab_type": "code",
    "id": "Yk1qcJRAoXjn",
    "outputId": "9b68f7c8-b141-45d5-fb94-138e71e9ba8b",
    "tags": []
   },
   "outputs": [
    {
     "name": "stdout",
     "output_type": "stream",
     "text": [
      "YF.download() has changed argument auto_adjust default to True\n"
     ]
    },
    {
     "name": "stderr",
     "output_type": "stream",
     "text": [
      "[*********************100%***********************]  1 of 1 completed\n"
     ]
    },
    {
     "data": {
      "text/html": [
       "<div>\n",
       "<style scoped>\n",
       "    .dataframe tbody tr th:only-of-type {\n",
       "        vertical-align: middle;\n",
       "    }\n",
       "\n",
       "    .dataframe tbody tr th {\n",
       "        vertical-align: top;\n",
       "    }\n",
       "\n",
       "    .dataframe thead tr th {\n",
       "        text-align: left;\n",
       "    }\n",
       "\n",
       "    .dataframe thead tr:last-of-type th {\n",
       "        text-align: right;\n",
       "    }\n",
       "</style>\n",
       "<table border=\"1\" class=\"dataframe\">\n",
       "  <thead>\n",
       "    <tr>\n",
       "      <th>Price</th>\n",
       "      <th>Close</th>\n",
       "      <th>High</th>\n",
       "      <th>Low</th>\n",
       "      <th>Open</th>\n",
       "      <th>Volume</th>\n",
       "    </tr>\n",
       "    <tr>\n",
       "      <th>Ticker</th>\n",
       "      <th>DBO</th>\n",
       "      <th>DBO</th>\n",
       "      <th>DBO</th>\n",
       "      <th>DBO</th>\n",
       "      <th>DBO</th>\n",
       "    </tr>\n",
       "    <tr>\n",
       "      <th>Date</th>\n",
       "      <th></th>\n",
       "      <th></th>\n",
       "      <th></th>\n",
       "      <th></th>\n",
       "      <th></th>\n",
       "    </tr>\n",
       "  </thead>\n",
       "  <tbody>\n",
       "    <tr>\n",
       "      <th>2019-01-02</th>\n",
       "      <td>7.696126</td>\n",
       "      <td>7.865566</td>\n",
       "      <td>7.312658</td>\n",
       "      <td>7.357247</td>\n",
       "      <td>868200</td>\n",
       "    </tr>\n",
       "    <tr>\n",
       "      <th>2019-01-03</th>\n",
       "      <td>7.758551</td>\n",
       "      <td>7.803141</td>\n",
       "      <td>7.535604</td>\n",
       "      <td>7.794223</td>\n",
       "      <td>717700</td>\n",
       "    </tr>\n",
       "    <tr>\n",
       "      <th>2019-01-04</th>\n",
       "      <td>7.945827</td>\n",
       "      <td>8.106349</td>\n",
       "      <td>7.847730</td>\n",
       "      <td>7.945827</td>\n",
       "      <td>722100</td>\n",
       "    </tr>\n",
       "    <tr>\n",
       "      <th>2019-01-07</th>\n",
       "      <td>8.026089</td>\n",
       "      <td>8.195528</td>\n",
       "      <td>7.981499</td>\n",
       "      <td>8.017171</td>\n",
       "      <td>377000</td>\n",
       "    </tr>\n",
       "    <tr>\n",
       "      <th>2019-01-08</th>\n",
       "      <td>8.195527</td>\n",
       "      <td>8.222281</td>\n",
       "      <td>8.079595</td>\n",
       "      <td>8.142020</td>\n",
       "      <td>311200</td>\n",
       "    </tr>\n",
       "    <tr>\n",
       "      <th>...</th>\n",
       "      <td>...</td>\n",
       "      <td>...</td>\n",
       "      <td>...</td>\n",
       "      <td>...</td>\n",
       "      <td>...</td>\n",
       "    </tr>\n",
       "    <tr>\n",
       "      <th>2020-07-15</th>\n",
       "      <td>6.617460</td>\n",
       "      <td>6.662785</td>\n",
       "      <td>6.535875</td>\n",
       "      <td>6.590265</td>\n",
       "      <td>2144400</td>\n",
       "    </tr>\n",
       "    <tr>\n",
       "      <th>2020-07-16</th>\n",
       "      <td>6.590264</td>\n",
       "      <td>6.653720</td>\n",
       "      <td>6.581200</td>\n",
       "      <td>6.599330</td>\n",
       "      <td>766200</td>\n",
       "    </tr>\n",
       "    <tr>\n",
       "      <th>2020-07-17</th>\n",
       "      <td>6.599330</td>\n",
       "      <td>6.617460</td>\n",
       "      <td>6.517745</td>\n",
       "      <td>6.599330</td>\n",
       "      <td>828800</td>\n",
       "    </tr>\n",
       "    <tr>\n",
       "      <th>2020-07-20</th>\n",
       "      <td>6.590264</td>\n",
       "      <td>6.626524</td>\n",
       "      <td>6.499614</td>\n",
       "      <td>6.554004</td>\n",
       "      <td>687800</td>\n",
       "    </tr>\n",
       "    <tr>\n",
       "      <th>2020-07-21</th>\n",
       "      <td>6.717175</td>\n",
       "      <td>6.825955</td>\n",
       "      <td>6.689980</td>\n",
       "      <td>6.762500</td>\n",
       "      <td>1505200</td>\n",
       "    </tr>\n",
       "  </tbody>\n",
       "</table>\n",
       "<p>391 rows × 5 columns</p>\n",
       "</div>"
      ],
      "text/plain": [
       "Price          Close      High       Low      Open   Volume\n",
       "Ticker           DBO       DBO       DBO       DBO      DBO\n",
       "Date                                                       \n",
       "2019-01-02  7.696126  7.865566  7.312658  7.357247   868200\n",
       "2019-01-03  7.758551  7.803141  7.535604  7.794223   717700\n",
       "2019-01-04  7.945827  8.106349  7.847730  7.945827   722100\n",
       "2019-01-07  8.026089  8.195528  7.981499  8.017171   377000\n",
       "2019-01-08  8.195527  8.222281  8.079595  8.142020   311200\n",
       "...              ...       ...       ...       ...      ...\n",
       "2020-07-15  6.617460  6.662785  6.535875  6.590265  2144400\n",
       "2020-07-16  6.590264  6.653720  6.581200  6.599330   766200\n",
       "2020-07-17  6.599330  6.617460  6.517745  6.599330   828800\n",
       "2020-07-20  6.590264  6.626524  6.499614  6.554004   687800\n",
       "2020-07-21  6.717175  6.825955  6.689980  6.762500  1505200\n",
       "\n",
       "[391 rows x 5 columns]"
      ]
     },
     "execution_count": 13,
     "metadata": {},
     "output_type": "execute_result"
    }
   ],
   "source": [
    "# Pull stock data\n",
    "df = yf.download('DBO', start='2019-01-01',end='2020-07-22')\n",
    "# Show the data\n",
    "df"
   ]
  },
  {
   "cell_type": "code",
   "execution_count": 15,
   "metadata": {
    "colab": {
     "base_uri": "https://localhost:8080/",
     "height": 34
    },
    "colab_type": "code",
    "id": "7BmsKywsr7RP",
    "outputId": "c444cc3a-d02d-481c-fcdb-cdf76c52ce21",
    "tags": []
   },
   "outputs": [
    {
     "data": {
      "text/plain": [
       "(391, 5)"
      ]
     },
     "execution_count": 15,
     "metadata": {},
     "output_type": "execute_result"
    }
   ],
   "source": [
    "# Get the number of rows and columns in the data set\n",
    "df.shape"
   ]
  },
  {
   "cell_type": "code",
   "execution_count": 17,
   "metadata": {
    "colab": {
     "base_uri": "https://localhost:8080/",
     "height": 518
    },
    "colab_type": "code",
    "id": "VDZCNRGpsA9T",
    "outputId": "6a796b2f-3f65-43dc-a1d6-4bcd36b4c235",
    "tags": []
   },
   "outputs": [
    {
     "data": {
      "image/png": "[encoded data removed]",
      "text/plain": [
       "<Figure size 1600x800 with 1 Axes>"
      ]
     },
     "metadata": {},
     "output_type": "display_data"
    }
   ],
   "source": [
    "# Visualize the closing price history\n",
    "plt.figure(figsize=(16,8))\n",
    "plt.title('Close Price History')\n",
    "plt.plot(df['Close'])\n",
    "plt.xlabel('Date', fontsize=18)\n",
    "plt.ylabel('Close Price USD', fontsize=18)\n",
    "plt.show()"
   ]
  },
  {
   "cell_type": "code",
   "execution_count": 19,
   "metadata": {
    "colab": {
     "base_uri": "https://localhost:8080/",
     "height": 34
    },
    "colab_type": "code",
    "id": "JZkzxwqaswKB",
    "outputId": "ba29f187-1d74-4ea6-9605-2680c276f9b7",
    "tags": []
   },
   "outputs": [
    {
     "data": {
      "text/plain": [
       "313"
      ]
     },
     "execution_count": 19,
     "metadata": {},
     "output_type": "execute_result"
    }
   ],
   "source": [
    "# Create a new dataframe with only the 'Close' column\n",
    "data = df.filter(['Close'])\n",
    "# Convert the dataframe to a numpy array\n",
    "dataset = data.values\n",
    "# Get the number of rows to train the LST model on \n",
    "training_data_len = math.ceil( len(dataset) * 0.8 )\n",
    "training_data_len"
   ]
  },
  {
   "cell_type": "code",
   "execution_count": 21,
   "metadata": {
    "colab": {
     "base_uri": "https://localhost:8080/",
     "height": 1000
    },
    "colab_type": "code",
    "id": "jHZsk2Y1PxPJ",
    "outputId": "af9da6a2-8744-46c9-92bf-66c9d9a63a5b",
    "tags": []
   },
   "outputs": [
    {
     "data": {
      "text/plain": [
       "array([[0.56625185],\n",
       "       [0.5781044 ],\n",
       "       [0.6136623 ],\n",
       "       [0.62890165],\n",
       "       [0.66107285],\n",
       "       [0.73896154],\n",
       "       [0.7457346 ],\n",
       "       [0.71864289],\n",
       "       [0.68816474],\n",
       "       [0.73049562],\n",
       "       [0.73896154],\n",
       "       [0.7372685 ],\n",
       "       [0.77959938],\n",
       "       [0.75250767],\n",
       "       [0.73896154],\n",
       "       [0.75928055],\n",
       "       [0.77113328],\n",
       "       [0.72710918],\n",
       "       [0.75928055],\n",
       "       [0.79145192],\n",
       "       [0.78467886],\n",
       "       [0.8253167 ],\n",
       "       [0.81177093],\n",
       "       [0.782986  ],\n",
       "       [0.78637226],\n",
       "       [0.75589411],\n",
       "       [0.75758715],\n",
       "       [0.74912105],\n",
       "       [0.76943987],\n",
       "       [0.79145192],\n",
       "       [0.80161161],\n",
       "       [0.84563535],\n",
       "       [0.85071519],\n",
       "       [0.85579467],\n",
       "       [0.85410145],\n",
       "       [0.85918129],\n",
       "       [0.81177093],\n",
       "       [0.8320894 ],\n",
       "       [0.85748807],\n",
       "       [0.85579467],\n",
       "       [0.82362348],\n",
       "       [0.84563535],\n",
       "       [0.85071519],\n",
       "       [0.84394213],\n",
       "       [0.84902215],\n",
       "       [0.83886247],\n",
       "       [0.85071519],\n",
       "       [0.85240841],\n",
       "       [0.8778069 ],\n",
       "       [0.8761135 ],\n",
       "       [0.87272706],\n",
       "       [0.88119316],\n",
       "       [0.87272706],\n",
       "       [0.89643233],\n",
       "       [0.88627301],\n",
       "       [0.86595418],\n",
       "       [0.87442028],\n",
       "       [0.88119316],\n",
       "       [0.86934062],\n",
       "       [0.87272706],\n",
       "       [0.88457979],\n",
       "       [0.91336472],\n",
       "       [0.92352404],\n",
       "       [0.92691085],\n",
       "       [0.92183082],\n",
       "       [0.93537677],\n",
       "       [0.94553609],\n",
       "       [0.94045643],\n",
       "       [0.96416152],\n",
       "       [0.95230898],\n",
       "       [0.96246866],\n",
       "       [0.96246866],\n",
       "       [0.96924136],\n",
       "       [0.96246866],\n",
       "       [0.95738882],\n",
       "       [0.98109391],\n",
       "       [0.99633326],\n",
       "       [0.99464004],\n",
       "       [0.98448053],\n",
       "       [0.93029711],\n",
       "       [0.9489229 ],\n",
       "       [0.95400238],\n",
       "       [0.95400238],\n",
       "       [0.90151217],\n",
       "       [0.9099781 ],\n",
       "       [0.93368355],\n",
       "       [0.88627301],\n",
       "       [0.9099781 ],\n",
       "       [0.90151217],\n",
       "       [0.90659184],\n",
       "       [0.88627301],\n",
       "       [0.92013796],\n",
       "       [0.93876339],\n",
       "       [0.95061575],\n",
       "       [0.94045643],\n",
       "       [0.95061575],\n",
       "       [0.95061575],\n",
       "       [0.89643233],\n",
       "       [0.81007753],\n",
       "       [0.84055569],\n",
       "       [0.84902215],\n",
       "       [0.84224909],\n",
       "       [0.77790616],\n",
       "       [0.68816474],\n",
       "       [0.67631201],\n",
       "       [0.69663084],\n",
       "       [0.64414064],\n",
       "       [0.6864717 ],\n",
       "       [0.71525663],\n",
       "       [0.70679035],\n",
       "       [0.71356323],\n",
       "       [0.65260692],\n",
       "       [0.67969845],\n",
       "       [0.6864717 ],\n",
       "       [0.66953913],\n",
       "       [0.71864289],\n",
       "       [0.72541577],\n",
       "       [0.78637226],\n",
       "       [0.80330447],\n",
       "       [0.80669109],\n",
       "       [0.80838431],\n",
       "       [0.84224909],\n",
       "       [0.84224909],\n",
       "       [0.80499787],\n",
       "       [0.83886247],\n",
       "       [0.77113328],\n",
       "       [0.7880653 ],\n",
       "       [0.81007753],\n",
       "       [0.80669109],\n",
       "       [0.82193026],\n",
       "       [0.87950012],\n",
       "       [0.88119316],\n",
       "       [0.8778069 ],\n",
       "       [0.84732857],\n",
       "       [0.82023704],\n",
       "       [0.78637226],\n",
       "       [0.76097359],\n",
       "       [0.782986  ],\n",
       "       [0.78467886],\n",
       "       [0.80330447],\n",
       "       [0.77282632],\n",
       "       [0.77790616],\n",
       "       [0.7880653 ],\n",
       "       [0.80330447],\n",
       "       [0.8337828 ],\n",
       "       [0.82700974],\n",
       "       [0.72541577],\n",
       "       [0.7457346 ],\n",
       "       [0.72710918],\n",
       "       [0.69832406],\n",
       "       [0.6492203 ],\n",
       "       [0.65768659],\n",
       "       [0.691551  ],\n",
       "       [0.70340372],\n",
       "       [0.77790616],\n",
       "       [0.71864289],\n",
       "       [0.69324458],\n",
       "       [0.69832406],\n",
       "       [0.72541577],\n",
       "       [0.7288024 ],\n",
       "       [0.7372685 ],\n",
       "       [0.72541577],\n",
       "       [0.68308508],\n",
       "       [0.67631201],\n",
       "       [0.71525663],\n",
       "       [0.7372685 ],\n",
       "       [0.74912105],\n",
       "       [0.70509713],\n",
       "       [0.68139186],\n",
       "       [0.75250767],\n",
       "       [0.75081427],\n",
       "       [0.76266699],\n",
       "       [0.79653159],\n",
       "       [0.78467886],\n",
       "       [0.74912105],\n",
       "       [0.72372292],\n",
       "       [0.72033611],\n",
       "       [0.85918129],\n",
       "       [0.79822481],\n",
       "       [0.78637226],\n",
       "       [0.80499787],\n",
       "       [0.80838431],\n",
       "       [0.81346397],\n",
       "       [0.76774665],\n",
       "       [0.75928055],\n",
       "       [0.76097359],\n",
       "       [0.7457346 ],\n",
       "       [0.70679035],\n",
       "       [0.68816474],\n",
       "       [0.66276607],\n",
       "       [0.65768659],\n",
       "       [0.67800523],\n",
       "       [0.68139186],\n",
       "       [0.66615269],\n",
       "       [0.67800523],\n",
       "       [0.70848357],\n",
       "       [0.74404138],\n",
       "       [0.71694967],\n",
       "       [0.69663084],\n",
       "       [0.71017661],\n",
       "       [0.72541577],\n",
       "       [0.71356323],\n",
       "       [0.71356323],\n",
       "       [0.73557528],\n",
       "       [0.77790616],\n",
       "       [0.7897587 ],\n",
       "       [0.80161161],\n",
       "       [0.77790616],\n",
       "       [0.77282632],\n",
       "       [0.74742782],\n",
       "       [0.72710918],\n",
       "       [0.78467886],\n",
       "       [0.79991821],\n",
       "       [0.81346397],\n",
       "       [0.79145192],\n",
       "       [0.80161161],\n",
       "       [0.81854364],\n",
       "       [0.80669109],\n",
       "       [0.80838431],\n",
       "       [0.82023704],\n",
       "       [0.81007753],\n",
       "       [0.8320894 ],\n",
       "       [0.80669109],\n",
       "       [0.76266699],\n",
       "       [0.81007753],\n",
       "       [0.84902215],\n",
       "       [0.83886247],\n",
       "       [0.83886247],\n",
       "       [0.85410145],\n",
       "       [0.84732857],\n",
       "       [0.77282632],\n",
       "       [0.78467886],\n",
       "       [0.79483837],\n",
       "       [0.85410145],\n",
       "       [0.85579467],\n",
       "       [0.87103402],\n",
       "       [0.87103402],\n",
       "       [0.88119316],\n",
       "       [0.86595418],\n",
       "       [0.88119316],\n",
       "       [0.89304607],\n",
       "       [0.9116715 ],\n",
       "       [0.92691085],\n",
       "       [0.93199033],\n",
       "       [0.93876339],\n",
       "       [0.92013796],\n",
       "       [0.93287433],\n",
       "       [0.93975893],\n",
       "       [0.9569709 ],\n",
       "       [0.95869201],\n",
       "       [0.9569709 ],\n",
       "       [0.94148022],\n",
       "       [0.94492243],\n",
       "       [1.        ],\n",
       "       [0.99655761],\n",
       "       [0.99139429],\n",
       "       [0.92254751],\n",
       "       [0.90533555],\n",
       "       [0.89156634],\n",
       "       [0.86230645],\n",
       "       [0.87091234],\n",
       "       [0.85714277],\n",
       "       [0.87263345],\n",
       "       [0.88123934],\n",
       "       [0.86574866],\n",
       "       [0.81927717],\n",
       "       [0.7848536 ],\n",
       "       [0.75043057],\n",
       "       [0.70567982],\n",
       "       [0.72461271],\n",
       "       [0.7108435 ],\n",
       "       [0.7005165 ],\n",
       "       [0.66781404],\n",
       "       [0.61790015],\n",
       "       [0.61101564],\n",
       "       [0.64716004],\n",
       "       [0.65576612],\n",
       "       [0.64543876],\n",
       "       [0.63166955],\n",
       "       [0.64027544],\n",
       "       [0.66609293],\n",
       "       [0.66437183],\n",
       "       [0.66953533],\n",
       "       [0.67469883],\n",
       "       [0.69535282],\n",
       "       [0.69363172],\n",
       "       [0.67641993],\n",
       "       [0.65060244],\n",
       "       [0.59552505],\n",
       "       [0.57659216],\n",
       "       [0.54216886],\n",
       "       [0.50258189],\n",
       "       [0.55421706],\n",
       "       [0.54905347],\n",
       "       [0.55421706],\n",
       "       [0.52495708],\n",
       "       [0.44922552],\n",
       "       [0.22547349],\n",
       "       [0.30464718],\n",
       "       [0.26850268],\n",
       "       [0.24096381],\n",
       "       [0.25817559],\n",
       "       [0.17211703],\n",
       "       [0.14457843],\n",
       "       [0.04475048],\n",
       "       [0.14457843],\n",
       "       [0.09810676],\n",
       "       [0.11359725],\n",
       "       [0.12220306],\n",
       "       [0.16351123],\n",
       "       [0.14629963],\n",
       "       [0.16351123],\n",
       "       [0.16695362],\n",
       "       [0.16006893],\n",
       "       [0.11876075],\n",
       "       [0.12220306],\n",
       "       [0.14974193],\n",
       "       [0.16523243],\n",
       "       [0.18416532],\n",
       "       [0.18072292],\n",
       "       [0.17555943],\n",
       "       [0.22547349],\n",
       "       [0.22719451],\n",
       "       [0.16523243],\n",
       "       [0.16523243],\n",
       "       [0.16695362],\n",
       "       [0.14802073],\n",
       "       [0.01893289],\n",
       "       [0.04475048],\n",
       "       [0.04130817],\n",
       "       [0.02409639],\n",
       "       [0.0017212 ],\n",
       "       [0.        ],\n",
       "       [0.00860589],\n",
       "       [0.05851978],\n",
       "       [0.02925989],\n",
       "       [0.05335637],\n",
       "       [0.10671265],\n",
       "       [0.06712576],\n",
       "       [0.05163517],\n",
       "       [0.10327026],\n",
       "       [0.08433736],\n",
       "       [0.05851978],\n",
       "       [0.05335637],\n",
       "       [0.07917377],\n",
       "       [0.10499154],\n",
       "       [0.16523243],\n",
       "       [0.16006893],\n",
       "       [0.19104992],\n",
       "       [0.20137692],\n",
       "       [0.18932891],\n",
       "       [0.21514631],\n",
       "       [0.18244412],\n",
       "       [0.19104992],\n",
       "       [0.2237523 ],\n",
       "       [0.2426851 ],\n",
       "       [0.26333918],\n",
       "       [0.26678149],\n",
       "       [0.27710839],\n",
       "       [0.32013767],\n",
       "       [0.29087778],\n",
       "       [0.30120478],\n",
       "       [0.30808957],\n",
       "       [0.2358004 ],\n",
       "       [0.24784859],\n",
       "       [0.27194498],\n",
       "       [0.29948368],\n",
       "       [0.28227198],\n",
       "       [0.30292607],\n",
       "       [0.31325307],\n",
       "       [0.34251305],\n",
       "       [0.33218596],\n",
       "       [0.27882968],\n",
       "       [0.30808957],\n",
       "       [0.28227198],\n",
       "       [0.31497427],\n",
       "       [0.30808957],\n",
       "       [0.32013767],\n",
       "       [0.33390707],\n",
       "       [0.34423415],\n",
       "       [0.34251305],\n",
       "       [0.35456115],\n",
       "       [0.33046476],\n",
       "       [0.35283996],\n",
       "       [0.33218596],\n",
       "       [0.34939765],\n",
       "       [0.36144585],\n",
       "       [0.35628226],\n",
       "       [0.35800355],\n",
       "       [0.35628226],\n",
       "       [0.38037865]])"
      ]
     },
     "execution_count": 21,
     "metadata": {},
     "output_type": "execute_result"
    }
   ],
   "source": [
    "# Fix: select the 'Close' column only for scaling\n",
    "data = df[['Close']]\n",
    "dataset = data.values\n",
    "# Scale the data \n",
    "scaler = MinMaxScaler(feature_range=(0,1))\n",
    "scaled_data = scaler.fit_transform(dataset)\n",
    "\n",
    "scaled_data"
   ]
  },
  {
   "cell_type": "code",
   "execution_count": 23,
   "metadata": {
    "colab": {
     "base_uri": "https://localhost:8080/",
     "height": 680
    },
    "colab_type": "code",
    "id": "X5uofA7uRN6Y",
    "outputId": "471e2fc4-7bfe-4c39-b8f8-8bb2e1c8b8c1",
    "tags": []
   },
   "outputs": [
    {
     "name": "stdout",
     "output_type": "stream",
     "text": [
      "[array([0.56625185, 0.5781044 , 0.6136623 , 0.62890165, 0.66107285,\n",
      "       0.73896154, 0.7457346 , 0.71864289, 0.68816474, 0.73049562,\n",
      "       0.73896154, 0.7372685 , 0.77959938, 0.75250767, 0.73896154,\n",
      "       0.75928055, 0.77113328, 0.72710918, 0.75928055, 0.79145192,\n",
      "       0.78467886, 0.8253167 , 0.81177093, 0.782986  , 0.78637226,\n",
      "       0.75589411, 0.75758715, 0.74912105, 0.76943987, 0.79145192,\n",
      "       0.80161161, 0.84563535, 0.85071519, 0.85579467, 0.85410145,\n",
      "       0.85918129, 0.81177093, 0.8320894 , 0.85748807, 0.85579467,\n",
      "       0.82362348, 0.84563535, 0.85071519, 0.84394213, 0.84902215,\n",
      "       0.83886247, 0.85071519, 0.85240841, 0.8778069 , 0.8761135 ,\n",
      "       0.87272706, 0.88119316, 0.87272706, 0.89643233, 0.88627301,\n",
      "       0.86595418, 0.87442028, 0.88119316, 0.86934062, 0.87272706])]\n",
      "[0.8845797862116501]\n",
      "\n",
      "[array([0.56625185, 0.5781044 , 0.6136623 , 0.62890165, 0.66107285,\n",
      "       0.73896154, 0.7457346 , 0.71864289, 0.68816474, 0.73049562,\n",
      "       0.73896154, 0.7372685 , 0.77959938, 0.75250767, 0.73896154,\n",
      "       0.75928055, 0.77113328, 0.72710918, 0.75928055, 0.79145192,\n",
      "       0.78467886, 0.8253167 , 0.81177093, 0.782986  , 0.78637226,\n",
      "       0.75589411, 0.75758715, 0.74912105, 0.76943987, 0.79145192,\n",
      "       0.80161161, 0.84563535, 0.85071519, 0.85579467, 0.85410145,\n",
      "       0.85918129, 0.81177093, 0.8320894 , 0.85748807, 0.85579467,\n",
      "       0.82362348, 0.84563535, 0.85071519, 0.84394213, 0.84902215,\n",
      "       0.83886247, 0.85071519, 0.85240841, 0.8778069 , 0.8761135 ,\n",
      "       0.87272706, 0.88119316, 0.87272706, 0.89643233, 0.88627301,\n",
      "       0.86595418, 0.87442028, 0.88119316, 0.86934062, 0.87272706]), array([0.5781044 , 0.6136623 , 0.62890165, 0.66107285, 0.73896154,\n",
      "       0.7457346 , 0.71864289, 0.68816474, 0.73049562, 0.73896154,\n",
      "       0.7372685 , 0.77959938, 0.75250767, 0.73896154, 0.75928055,\n",
      "       0.77113328, 0.72710918, 0.75928055, 0.79145192, 0.78467886,\n",
      "       0.8253167 , 0.81177093, 0.782986  , 0.78637226, 0.75589411,\n",
      "       0.75758715, 0.74912105, 0.76943987, 0.79145192, 0.80161161,\n",
      "       0.84563535, 0.85071519, 0.85579467, 0.85410145, 0.85918129,\n",
      "       0.81177093, 0.8320894 , 0.85748807, 0.85579467, 0.82362348,\n",
      "       0.84563535, 0.85071519, 0.84394213, 0.84902215, 0.83886247,\n",
      "       0.85071519, 0.85240841, 0.8778069 , 0.8761135 , 0.87272706,\n",
      "       0.88119316, 0.87272706, 0.89643233, 0.88627301, 0.86595418,\n",
      "       0.87442028, 0.88119316, 0.86934062, 0.87272706, 0.88457979])]\n",
      "[0.8845797862116501, 0.9133647188472339]\n",
      "\n"
     ]
    }
   ],
   "source": [
    "# Create the training data set\n",
    "# Create the scaled training data set\n",
    "train_data = scaled_data[0:training_data_len , :]\n",
    "# Split the data into x_train and y_train data sets\n",
    "x_train = []\n",
    "y_train = []\n",
    "\n",
    "for i in range(60, len(train_data)):\n",
    "  x_train.append(train_data[i-60:i, 0])\n",
    "  y_train.append(train_data[i, 0])\n",
    "  if i<= 61:\n",
    "    print(x_train)\n",
    "    print(y_train)\n",
    "    print()"
   ]
  },
  {
   "cell_type": "code",
   "execution_count": 25,
   "metadata": {
    "colab": {},
    "colab_type": "code",
    "id": "aXCItPJWSpJd",
    "tags": []
   },
   "outputs": [],
   "source": [
    "# Convert the x_train and y_train to numpy arrays\n",
    "x_train, y_train = np.array(x_train), np.array(y_train)"
   ]
  },
  {
   "cell_type": "code",
   "execution_count": 27,
   "metadata": {
    "colab": {
     "base_uri": "https://localhost:8080/",
     "height": 34
    },
    "colab_type": "code",
    "id": "pUkWuJ60SwRK",
    "outputId": "2e0a33c7-f0c3-4ad9-8baa-c18ec582dd76",
    "tags": []
   },
   "outputs": [
    {
     "data": {
      "text/plain": [
       "(253, 60, 1)"
      ]
     },
     "execution_count": 27,
     "metadata": {},
     "output_type": "execute_result"
    }
   ],
   "source": [
    "# Reshape the data for LSTM for a 3D shape\n",
    "x_train = np.reshape(x_train, (x_train.shape[0], x_train.shape[1], 1))\n",
    "x_train.shape"
   ]
  },
  {
   "cell_type": "code",
   "execution_count": 29,
   "metadata": {
    "colab": {},
    "colab_type": "code",
    "id": "RROm_gJUTJzI",
    "tags": []
   },
   "outputs": [
    {
     "name": "stderr",
     "output_type": "stream",
     "text": [
      "/opt/anaconda3/lib/python3.11/site-packages/keras/src/layers/rnn/rnn.py:200: UserWarning: Do not pass an `input_shape`/`input_dim` argument to a layer. When using Sequential models, prefer using an `Input(shape)` object as the first layer in the model instead.\n",
      "  super().__init__(**kwargs)\n"
     ]
    }
   ],
   "source": [
    "# Build the LSTM model\n",
    "model = Sequential()\n",
    "model.add(LSTM(50, return_sequences=True, input_shape = (x_train.shape[1], 1)))\n",
    "model.add(LSTM(50, return_sequences= False))\n",
    "model.add(Dense(25))\n",
    "model.add(Dense(1))"
   ]
  },
  {
   "cell_type": "code",
   "execution_count": 31,
   "metadata": {
    "colab": {},
    "colab_type": "code",
    "id": "qNK-ES57ZeKv",
    "tags": []
   },
   "outputs": [],
   "source": [
    "# Compile the model\n",
    "model.compile(optimizer='adam', loss='mean_squared_error')"
   ]
  },
  {
   "cell_type": "code",
   "execution_count": 33,
   "metadata": {
    "colab": {
     "base_uri": "https://localhost:8080/",
     "height": 68
    },
    "colab_type": "code",
    "id": "6VuKzWZnZsZA",
    "outputId": "69672b46-d012-47ed-d70e-1b05cd8c41cf",
    "tags": []
   },
   "outputs": [
    {
     "name": "stdout",
     "output_type": "stream",
     "text": [
      "\u001b[1m253/253\u001b[0m \u001b[32m━━━━━━━━━━━━━━━━━━━━\u001b[0m\u001b[37m\u001b[0m \u001b[1m2s\u001b[0m 7ms/step - loss: 0.0805\n"
     ]
    },
    {
     "data": {
      "text/plain": [
       "<keras.src.callbacks.history.History at 0x177e23150>"
      ]
     },
     "execution_count": 33,
     "metadata": {},
     "output_type": "execute_result"
    }
   ],
   "source": [
    "# Train the model\n",
    "model.fit(x_train, y_train, batch_size=1, epochs=1)"
   ]
  },
  {
   "cell_type": "code",
   "execution_count": 35,
   "metadata": {
    "colab": {},
    "colab_type": "code",
    "id": "D2NkxkmCdpYB",
    "tags": []
   },
   "outputs": [],
   "source": [
    "# Create the testing data set\n",
    "# Create a new array containing scaled values from index 1543 to 2003\n",
    "test_data = scaled_data[training_data_len - 60: , :]\n",
    "# Create the data sets x_test and y_test\n",
    "x_test = []\n",
    "y_test = dataset[training_data_len:, :]\n",
    "for i in range(60, len(test_data)):\n",
    "  x_test.append(test_data[i-60:i, 0])"
   ]
  },
  {
   "cell_type": "code",
   "execution_count": 37,
   "metadata": {
    "colab": {},
    "colab_type": "code",
    "id": "ty8_H1I1eenO",
    "tags": []
   },
   "outputs": [],
   "source": [
    "# Convert the data to a numpy array\n",
    "x_test = np.array(x_test)"
   ]
  },
  {
   "cell_type": "code",
   "execution_count": 39,
   "metadata": {
    "colab": {},
    "colab_type": "code",
    "id": "bbgpu17Se6q-",
    "tags": []
   },
   "outputs": [],
   "source": [
    "# Reshape the data\n",
    "x_test = np.reshape(x_test, (x_test.shape[0], x_test.shape[1], 1))"
   ]
  },
  {
   "cell_type": "code",
   "execution_count": 41,
   "metadata": {
    "colab": {},
    "colab_type": "code",
    "id": "sc5UyDjofSF8",
    "tags": []
   },
   "outputs": [
    {
     "name": "stdout",
     "output_type": "stream",
     "text": [
      "\u001b[1m3/3\u001b[0m \u001b[32m━━━━━━━━━━━━━━━━━━━━\u001b[0m\u001b[37m\u001b[0m \u001b[1m0s\u001b[0m 42ms/step\n"
     ]
    }
   ],
   "source": [
    "# Get the models predicted price values \n",
    "predictions = model.predict(x_test)\n",
    "predictions = scaler.inverse_transform(predictions)"
   ]
  },
  {
   "cell_type": "code",
   "execution_count": 43,
   "metadata": {
    "colab": {
     "base_uri": "https://localhost:8080/",
     "height": 34
    },
    "colab_type": "code",
    "id": "laEm-gilftWy",
    "outputId": "c05fb4d0-5245-4f97-c5ad-432fece73b2f",
    "tags": []
   },
   "outputs": [
    {
     "data": {
      "text/plain": [
       "0.2461526699555226"
      ]
     },
     "execution_count": 43,
     "metadata": {},
     "output_type": "execute_result"
    }
   ],
   "source": [
    "# Get the root mean squre error (RMSE) - to test the performance of the model\n",
    "rmse = np.sqrt(np.mean(predictions - y_test)**2)\n",
    "rmse"
   ]
  },
  {
   "cell_type": "code",
   "execution_count": 45,
   "metadata": {
    "colab": {
     "base_uri": "https://localhost:8080/",
     "height": 620
    },
    "colab_type": "code",
    "id": "NwJJCErlgR0u",
    "outputId": "7f0b329e-8cf9-4908-8ddb-da0a52347a38",
    "tags": []
   },
   "outputs": [],
   "source": [
    "train = data.iloc[:training_data_len].copy()\n",
    "valid = data.iloc[training_data_len:].copy()"
   ]
  },
  {
   "cell_type": "code",
   "execution_count": 47,
   "metadata": {
    "colab": {
     "base_uri": "https://localhost:8080/",
     "height": 450
    },
    "colab_type": "code",
    "id": "b88Ucip7hkrU",
    "outputId": "1d2f34d7-7aea-4b7e-8e5b-5af20a86decd",
    "tags": []
   },
   "outputs": [
    {
     "data": {
      "text/html": [
       "<div>\n",
       "<style scoped>\n",
       "    .dataframe tbody tr th:only-of-type {\n",
       "        vertical-align: middle;\n",
       "    }\n",
       "\n",
       "    .dataframe tbody tr th {\n",
       "        vertical-align: top;\n",
       "    }\n",
       "\n",
       "    .dataframe thead tr th {\n",
       "        text-align: left;\n",
       "    }\n",
       "\n",
       "    .dataframe thead tr:last-of-type th {\n",
       "        text-align: right;\n",
       "    }\n",
       "</style>\n",
       "<table border=\"1\" class=\"dataframe\">\n",
       "  <thead>\n",
       "    <tr>\n",
       "      <th>Price</th>\n",
       "      <th>Close</th>\n",
       "    </tr>\n",
       "    <tr>\n",
       "      <th>Ticker</th>\n",
       "      <th>DBO</th>\n",
       "    </tr>\n",
       "    <tr>\n",
       "      <th>Date</th>\n",
       "      <th></th>\n",
       "    </tr>\n",
       "  </thead>\n",
       "  <tbody>\n",
       "    <tr>\n",
       "      <th>2020-03-31</th>\n",
       "      <td>5.556853</td>\n",
       "    </tr>\n",
       "    <tr>\n",
       "      <th>2020-04-01</th>\n",
       "      <td>5.339293</td>\n",
       "    </tr>\n",
       "    <tr>\n",
       "      <th>2020-04-02</th>\n",
       "      <td>5.357422</td>\n",
       "    </tr>\n",
       "    <tr>\n",
       "      <th>2020-04-03</th>\n",
       "      <td>5.502463</td>\n",
       "    </tr>\n",
       "    <tr>\n",
       "      <th>2020-04-06</th>\n",
       "      <td>5.584048</td>\n",
       "    </tr>\n",
       "    <tr>\n",
       "      <th>...</th>\n",
       "      <td>...</td>\n",
       "    </tr>\n",
       "    <tr>\n",
       "      <th>2020-07-15</th>\n",
       "      <td>6.617460</td>\n",
       "    </tr>\n",
       "    <tr>\n",
       "      <th>2020-07-16</th>\n",
       "      <td>6.590264</td>\n",
       "    </tr>\n",
       "    <tr>\n",
       "      <th>2020-07-17</th>\n",
       "      <td>6.599330</td>\n",
       "    </tr>\n",
       "    <tr>\n",
       "      <th>2020-07-20</th>\n",
       "      <td>6.590264</td>\n",
       "    </tr>\n",
       "    <tr>\n",
       "      <th>2020-07-21</th>\n",
       "      <td>6.717175</td>\n",
       "    </tr>\n",
       "  </tbody>\n",
       "</table>\n",
       "<p>78 rows × 1 columns</p>\n",
       "</div>"
      ],
      "text/plain": [
       "Price          Close\n",
       "Ticker           DBO\n",
       "Date                \n",
       "2020-03-31  5.556853\n",
       "2020-04-01  5.339293\n",
       "2020-04-02  5.357422\n",
       "2020-04-03  5.502463\n",
       "2020-04-06  5.584048\n",
       "...              ...\n",
       "2020-07-15  6.617460\n",
       "2020-07-16  6.590264\n",
       "2020-07-17  6.599330\n",
       "2020-07-20  6.590264\n",
       "2020-07-21  6.717175\n",
       "\n",
       "[78 rows x 1 columns]"
      ]
     },
     "execution_count": 47,
     "metadata": {},
     "output_type": "execute_result"
    }
   ],
   "source": [
    "# Show the valid and predicted prices\n",
    "valid"
   ]
  },
  {
   "cell_type": "code",
   "execution_count": 49,
   "metadata": {
    "colab": {
     "base_uri": "https://localhost:8080/",
     "height": 34
    },
    "colab_type": "code",
    "id": "YZM_VasKh0j3",
    "outputId": "d229785a-a12d-442a-fce1-94c4a6f5e01c",
    "tags": []
   },
   "outputs": [
    {
     "name": "stderr",
     "output_type": "stream",
     "text": [
      "[*********************100%***********************]  1 of 1 completed\n"
     ]
    },
    {
     "ename": "ValueError",
     "evalue": "Found array with 0 feature(s) (shape=(60, 0)) while a minimum of 1 is required by MinMaxScaler.",
     "output_type": "error",
     "traceback": [
      "\u001b[0;31m---------------------------------------------------------------------------\u001b[0m",
      "\u001b[0;31mValueError\u001b[0m                                Traceback (most recent call last)",
      "Cell \u001b[0;32mIn[49], line 7\u001b[0m\n\u001b[1;32m      5\u001b[0m last_60_days \u001b[38;5;241m=\u001b[39m new_df[\u001b[38;5;241m-\u001b[39m\u001b[38;5;241m60\u001b[39m:]\u001b[38;5;241m.\u001b[39mvalues\n\u001b[1;32m      6\u001b[0m \u001b[38;5;66;03m# Scale the data to be values between 0 and 1\u001b[39;00m\n\u001b[0;32m----> 7\u001b[0m last_60_days_scaled \u001b[38;5;241m=\u001b[39m scaler\u001b[38;5;241m.\u001b[39mtransform(last_60_days)\n\u001b[1;32m      8\u001b[0m \u001b[38;5;66;03m# Create an empty list\u001b[39;00m\n\u001b[1;32m      9\u001b[0m X_test \u001b[38;5;241m=\u001b[39m []\n",
      "File \u001b[0;32m/opt/anaconda3/lib/python3.11/site-packages/sklearn/utils/_set_output.py:140\u001b[0m, in \u001b[0;36m_wrap_method_output.<locals>.wrapped\u001b[0;34m(self, X, *args, **kwargs)\u001b[0m\n\u001b[1;32m    138\u001b[0m \u001b[38;5;129m@wraps\u001b[39m(f)\n\u001b[1;32m    139\u001b[0m \u001b[38;5;28;01mdef\u001b[39;00m \u001b[38;5;21mwrapped\u001b[39m(\u001b[38;5;28mself\u001b[39m, X, \u001b[38;5;241m*\u001b[39margs, \u001b[38;5;241m*\u001b[39m\u001b[38;5;241m*\u001b[39mkwargs):\n\u001b[0;32m--> 140\u001b[0m     data_to_wrap \u001b[38;5;241m=\u001b[39m f(\u001b[38;5;28mself\u001b[39m, X, \u001b[38;5;241m*\u001b[39margs, \u001b[38;5;241m*\u001b[39m\u001b[38;5;241m*\u001b[39mkwargs)\n\u001b[1;32m    141\u001b[0m     \u001b[38;5;28;01mif\u001b[39;00m \u001b[38;5;28misinstance\u001b[39m(data_to_wrap, \u001b[38;5;28mtuple\u001b[39m):\n\u001b[1;32m    142\u001b[0m         \u001b[38;5;66;03m# only wrap the first output for cross decomposition\u001b[39;00m\n\u001b[1;32m    143\u001b[0m         \u001b[38;5;28;01mreturn\u001b[39;00m (\n\u001b[1;32m    144\u001b[0m             _wrap_data_with_container(method, data_to_wrap[\u001b[38;5;241m0\u001b[39m], X, \u001b[38;5;28mself\u001b[39m),\n\u001b[1;32m    145\u001b[0m             \u001b[38;5;241m*\u001b[39mdata_to_wrap[\u001b[38;5;241m1\u001b[39m:],\n\u001b[1;32m    146\u001b[0m         )\n",
      "File \u001b[0;32m/opt/anaconda3/lib/python3.11/site-packages/sklearn/preprocessing/_data.py:508\u001b[0m, in \u001b[0;36mMinMaxScaler.transform\u001b[0;34m(self, X)\u001b[0m\n\u001b[1;32m    494\u001b[0m \u001b[38;5;250m\u001b[39m\u001b[38;5;124;03m\"\"\"Scale features of X according to feature_range.\u001b[39;00m\n\u001b[1;32m    495\u001b[0m \n\u001b[1;32m    496\u001b[0m \u001b[38;5;124;03mParameters\u001b[39;00m\n\u001b[0;32m   (...)\u001b[0m\n\u001b[1;32m    504\u001b[0m \u001b[38;5;124;03m    Transformed data.\u001b[39;00m\n\u001b[1;32m    505\u001b[0m \u001b[38;5;124;03m\"\"\"\u001b[39;00m\n\u001b[1;32m    506\u001b[0m check_is_fitted(\u001b[38;5;28mself\u001b[39m)\n\u001b[0;32m--> 508\u001b[0m X \u001b[38;5;241m=\u001b[39m \u001b[38;5;28mself\u001b[39m\u001b[38;5;241m.\u001b[39m_validate_data(\n\u001b[1;32m    509\u001b[0m     X,\n\u001b[1;32m    510\u001b[0m     copy\u001b[38;5;241m=\u001b[39m\u001b[38;5;28mself\u001b[39m\u001b[38;5;241m.\u001b[39mcopy,\n\u001b[1;32m    511\u001b[0m     dtype\u001b[38;5;241m=\u001b[39mFLOAT_DTYPES,\n\u001b[1;32m    512\u001b[0m     force_all_finite\u001b[38;5;241m=\u001b[39m\u001b[38;5;124m\"\u001b[39m\u001b[38;5;124mallow-nan\u001b[39m\u001b[38;5;124m\"\u001b[39m,\n\u001b[1;32m    513\u001b[0m     reset\u001b[38;5;241m=\u001b[39m\u001b[38;5;28;01mFalse\u001b[39;00m,\n\u001b[1;32m    514\u001b[0m )\n\u001b[1;32m    516\u001b[0m X \u001b[38;5;241m*\u001b[39m\u001b[38;5;241m=\u001b[39m \u001b[38;5;28mself\u001b[39m\u001b[38;5;241m.\u001b[39mscale_\n\u001b[1;32m    517\u001b[0m X \u001b[38;5;241m+\u001b[39m\u001b[38;5;241m=\u001b[39m \u001b[38;5;28mself\u001b[39m\u001b[38;5;241m.\u001b[39mmin_\n",
      "File \u001b[0;32m/opt/anaconda3/lib/python3.11/site-packages/sklearn/base.py:565\u001b[0m, in \u001b[0;36mBaseEstimator._validate_data\u001b[0;34m(self, X, y, reset, validate_separately, **check_params)\u001b[0m\n\u001b[1;32m    563\u001b[0m     \u001b[38;5;28;01mraise\u001b[39;00m \u001b[38;5;167;01mValueError\u001b[39;00m(\u001b[38;5;124m\"\u001b[39m\u001b[38;5;124mValidation should be done on X, y or both.\u001b[39m\u001b[38;5;124m\"\u001b[39m)\n\u001b[1;32m    564\u001b[0m \u001b[38;5;28;01melif\u001b[39;00m \u001b[38;5;129;01mnot\u001b[39;00m no_val_X \u001b[38;5;129;01mand\u001b[39;00m no_val_y:\n\u001b[0;32m--> 565\u001b[0m     X \u001b[38;5;241m=\u001b[39m check_array(X, input_name\u001b[38;5;241m=\u001b[39m\u001b[38;5;124m\"\u001b[39m\u001b[38;5;124mX\u001b[39m\u001b[38;5;124m\"\u001b[39m, \u001b[38;5;241m*\u001b[39m\u001b[38;5;241m*\u001b[39mcheck_params)\n\u001b[1;32m    566\u001b[0m     out \u001b[38;5;241m=\u001b[39m X\n\u001b[1;32m    567\u001b[0m \u001b[38;5;28;01melif\u001b[39;00m no_val_X \u001b[38;5;129;01mand\u001b[39;00m \u001b[38;5;129;01mnot\u001b[39;00m no_val_y:\n",
      "File \u001b[0;32m/opt/anaconda3/lib/python3.11/site-packages/sklearn/utils/validation.py:940\u001b[0m, in \u001b[0;36mcheck_array\u001b[0;34m(array, accept_sparse, accept_large_sparse, dtype, order, copy, force_all_finite, ensure_2d, allow_nd, ensure_min_samples, ensure_min_features, estimator, input_name)\u001b[0m\n\u001b[1;32m    938\u001b[0m     n_features \u001b[38;5;241m=\u001b[39m array\u001b[38;5;241m.\u001b[39mshape[\u001b[38;5;241m1\u001b[39m]\n\u001b[1;32m    939\u001b[0m     \u001b[38;5;28;01mif\u001b[39;00m n_features \u001b[38;5;241m<\u001b[39m ensure_min_features:\n\u001b[0;32m--> 940\u001b[0m         \u001b[38;5;28;01mraise\u001b[39;00m \u001b[38;5;167;01mValueError\u001b[39;00m(\n\u001b[1;32m    941\u001b[0m             \u001b[38;5;124m\"\u001b[39m\u001b[38;5;124mFound array with \u001b[39m\u001b[38;5;132;01m%d\u001b[39;00m\u001b[38;5;124m feature(s) (shape=\u001b[39m\u001b[38;5;132;01m%s\u001b[39;00m\u001b[38;5;124m) while\u001b[39m\u001b[38;5;124m\"\u001b[39m\n\u001b[1;32m    942\u001b[0m             \u001b[38;5;124m\"\u001b[39m\u001b[38;5;124m a minimum of \u001b[39m\u001b[38;5;132;01m%d\u001b[39;00m\u001b[38;5;124m is required\u001b[39m\u001b[38;5;132;01m%s\u001b[39;00m\u001b[38;5;124m.\u001b[39m\u001b[38;5;124m\"\u001b[39m\n\u001b[1;32m    943\u001b[0m             \u001b[38;5;241m%\u001b[39m (n_features, array\u001b[38;5;241m.\u001b[39mshape, ensure_min_features, context)\n\u001b[1;32m    944\u001b[0m         )\n\u001b[1;32m    946\u001b[0m \u001b[38;5;28;01mif\u001b[39;00m copy:\n\u001b[1;32m    947\u001b[0m     \u001b[38;5;28;01mif\u001b[39;00m xp\u001b[38;5;241m.\u001b[39m\u001b[38;5;18m__name__\u001b[39m \u001b[38;5;129;01min\u001b[39;00m {\u001b[38;5;124m\"\u001b[39m\u001b[38;5;124mnumpy\u001b[39m\u001b[38;5;124m\"\u001b[39m, \u001b[38;5;124m\"\u001b[39m\u001b[38;5;124mnumpy.array_api\u001b[39m\u001b[38;5;124m\"\u001b[39m}:\n\u001b[1;32m    948\u001b[0m         \u001b[38;5;66;03m# only make a copy if `array` and `array_orig` may share memory`\u001b[39;00m\n",
      "\u001b[0;31mValueError\u001b[0m: Found array with 0 feature(s) (shape=(60, 0)) while a minimum of 1 is required by MinMaxScaler."
     ]
    }
   ],
   "source": [
    "# Get the quote\n",
    "dbo_quote = yf.download('DBO', start='2019-01-01', end='2020-07-22')\n",
    "new_df = dbo_quote.filter(['Close'])\n",
    "# Get the last 60 day closing price values and convert the dataframe to an array\n",
    "last_60_days = new_df[-60:].values\n",
    "# Scale the data to be values between 0 and 1\n",
    "last_60_days_scaled = scaler.transform(last_60_days)\n",
    "# Create an empty list\n",
    "X_test = []\n",
    "# Append the past 60 days\n",
    "X_test.append(last_60_days_scaled)\n",
    "# Convert the X_test data set to a numpy array\n",
    "X_test = np.array(X_test)\n",
    "# Reshape the data\n",
    "X_test = np.reshape(X_test, (X_test.shape[0], X_test.shape[1], 1))\n",
    "# Get the predicted scaled price\n",
    "pred_price = model.predict(X_test)\n",
    "# Undo the scaling \n",
    "pred_price = scaler.inverse_transform(pred_price)\n",
    "print(pred_price)"
   ]
  },
  {
   "cell_type": "code",
   "execution_count": 51,
   "metadata": {
    "colab": {
     "base_uri": "https://localhost:8080/",
     "height": 68
    },
    "colab_type": "code",
    "id": "7rXtI9CLjXr2",
    "outputId": "ed7605b4-9427-4aa9-bf6f-70368407f18f",
    "tags": []
   },
   "outputs": [
    {
     "name": "stderr",
     "output_type": "stream",
     "text": [
      "[*********************100%***********************]  1 of 1 completed\n",
      "\n",
      "1 Failed download:\n",
      "['DBO']: YFPricesMissingError('possibly delisted; no price data found  (1d 2020-07-22 -> 2020-07-22)')\n"
     ]
    },
    {
     "name": "stdout",
     "output_type": "stream",
     "text": [
      "Empty DataFrame\n",
      "Columns: [DBO]\n",
      "Index: []\n"
     ]
    }
   ],
   "source": [
    "# Get the quote\n",
    "dbo_quote2 = yf.download('DBO', start='2020-07-22', end='2020-07-22')\n",
    "print(dbo_quote2['Close'])"
   ]
  },
  {
   "cell_type": "code",
   "execution_count": 53,
   "metadata": {
    "colab": {
     "base_uri": "https://localhost:8080/",
     "height": 34
    },
    "colab_type": "code",
    "id": "cTPEuWzam_67",
    "outputId": "097f8463-6e72-4f75-9521-02cf373eb707",
    "tags": []
   },
   "outputs": [
    {
     "data": {
      "text/plain": [
       "-1.6564014452065048"
      ]
     },
     "execution_count": 53,
     "metadata": {},
     "output_type": "execute_result"
    }
   ],
   "source": [
    "((7.3089347 - 7.43) / 7.3089347)*100"
   ]
  },
  {
   "cell_type": "code",
   "execution_count": null,
   "metadata": {},
   "outputs": [],
   "source": []
  }
 ],
 "metadata": {
  "colab": {
   "name": "DBO_pred.ipynb",
   "provenance": []
  },
  "kernelspec": {
   "display_name": "Python 3 (ipykernel)",
   "language": "python",
   "name": "python3"
  },
  "language_info": {
   "codemirror_mode": {
    "name": "ipython",
    "version": 3
   },
   "file_extension": ".py",
   "mimetype": "text/x-python",
   "name": "python",
   "nbconvert_exporter": "python",
   "pygments_lexer": "ipython3",
   "version": "3.11.7"
  }
 },
 "nbformat": 4,
 "nbformat_minor": 4
}
